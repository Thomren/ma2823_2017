{
 "cells": [
  {
   "cell_type": "markdown",
   "metadata": {},
   "source": [
    "#  2017-10-20  Linear and logistic regression\n",
    "\n"
   ]
  },
  {
   "cell_type": "markdown",
   "metadata": {},
   "source": [
    "The goal of this lab is to explore linear and logistic regression, implement them yourself and learn to use their respective scikit-learn implementation.\n",
    "\n",
    "Let us start by loading some of the usual librairies"
   ]
  },
  {
   "cell_type": "code",
   "execution_count": 1,
   "metadata": {},
   "outputs": [],
   "source": [
    "import numpy as np\n",
    "import pandas as pd\n",
    "import matplotlib.pyplot as plt\n",
    "from sklearn import preprocessing, metrics\n",
    "import sys\n",
    "\n",
    "%matplotlib inline"
   ]
  },
  {
   "cell_type": "markdown",
   "metadata": {},
   "source": [
    "# 0. (Vanilla) Gradient descent\n",
    "To optimise our error while doing linear regression, we will use gradient descent. \n",
    "\n",
    "__Reminder about gradient descent:__ This algorithm is commonly used to optimise convex functions. The idea is very simple — to reach the global optimum of a convex function from any point, we need to move in the direction opposite to that of greatest increase of the function. As the function is convex, this strategy will always take us to the global optimum. \n",
    "\n",
    "Now, the direction of greatest increase of the function is determined by taking the partial derivatives of the function with respect to every variable. For example, let us say we wish to optimise a convex function $f(x)$, where $x = (x_1, x_2, \\ldots, x_d)^T$. Let us say, we start at a point $s \\in \\mathbb{R}^d$. Then, the direction of greatest increase of $f$ at $s$ is given by \n",
    "\n",
    "$$\n",
    "\\nabla f(s) = \\left(\\frac{\\partial f(s)}{\\partial x_1}, \\frac{\\partial f(s)}{\\partial x_2}, \\ldots ,\\frac{\\partial f(s)}{\\partial x_d} \\right)^T.\n",
    "$$\n",
    "\n",
    "With this derivative, we design an update rule, which asks us to move in the direction opposite to the direction of greatest increase. By repeatedly applying this rule, we hope to reach the global minimum. We hence move to $t$, which is given by\n",
    "\n",
    "$$\n",
    "t = s - \\gamma \\nabla f(s),\n",
    "$$\n",
    "where $\\gamma$ is a parameter called the *learning rate*."
   ]
  },
  {
   "cell_type": "markdown",
   "metadata": {},
   "source": [
    "We will now construct a class for the gradient descent optimiser. This is a generic class that tries to optimise any function that is given to it."
   ]
  },
  {
   "cell_type": "markdown",
   "metadata": {},
   "source": [
    "We shall use the power of Python to declare our class. Python supports *first-class functions*, which allows us to pass functions to and return function from other functions. We shall use this to define the gradient descent optimizer:"
   ]
  },
  {
   "cell_type": "markdown",
   "metadata": {},
   "source": [
    "__Question:__ Fill in the `GradientDescentOptimizer` class below."
   ]
  },
  {
   "cell_type": "code",
   "execution_count": 2,
   "metadata": {},
   "outputs": [],
   "source": [
    "class GradientDescentOptimizer():\n",
    "    \"\"\" Class for optimization by gradient descent.\n",
    "    \n",
    "    Attributes:\n",
    "    -----------\n",
    "    f: function\n",
    "        the function to optimize\n",
    "    fprime: function \n",
    "        the gradient of the function to optimize\n",
    "    beta: np.array\n",
    "        the point where the function is currently being evaluated\n",
    "    lr: float\n",
    "        the learning rate\n",
    "    fx: float\n",
    "        the current function value\n",
    "    fgx: np.array\n",
    "        the current gradient value\n",
    "    beta_history: list of np.array\n",
    "        the list of all points where f has been evaluated\n",
    "    \"\"\"\n",
    "    def __init__(self, f, fprime, start, lr=1e-1):\n",
    "        \"\"\"     \n",
    "        Parameters:\n",
    "        -----------\n",
    "        f: function\n",
    "            the function to optimize \n",
    "            Yes, we can pass functions as parameters! To call f within the code, use f followed \n",
    "            by its arguments enclosed between parentheses, as you would normally do: f(x)\n",
    "        fprime: function\n",
    "            the function's gradient\n",
    "        start: np.array\n",
    "            the starting point, at which we begin our search\n",
    "        lr: float\n",
    "            the learning rate\n",
    "        \"\"\"\n",
    "        # Store the parameters as attributes\n",
    "        self.f      = f\n",
    "        self.fprime = fprime\n",
    "        self.beta   = start\n",
    "        self.lr     = lr\n",
    "        # Save history as attributes\n",
    "        self.beta_history = [start]\n",
    "    \n",
    "    def compute_fprime(self):\n",
    "        \"\"\" Compute the value of the gradient of f for our current point. \n",
    "        Update self.fgx accordingly.\n",
    "        \"\"\"\n",
    "        # Compute the gradient of f for the current parameters. \n",
    "        # Simply call fprime on the current values of the parameters.\n",
    "        # Does not return anything, but simply stores the gradient of f.\n",
    "        #    in self.fgx.\n",
    "        self.fgx = self.fprime(self.beta)\n",
    "    \n",
    "    def step(self):\n",
    "        \"\"\" Take a gradient descent step. \n",
    "        Upgrade self.beta accordingly. \n",
    "        \"\"\"\n",
    "        # Take a gradient descent step.\n",
    "        # 1. Compute the gradient at the current parameters. \n",
    "        # 2. Compute the change in beta from this gradient.\n",
    "        # 3. Update self.beta appropriately using the learning rate.\n",
    "        # Does not return anything.\n",
    "        # TODO\n",
    "        self.compute_fprime()\n",
    "        self.beta = self.beta - self.lr * self.fgx\n",
    "        \n",
    "    def optimize(self, max_iter=100):\n",
    "        \"\"\"Use the gradient descent optimiser to optimise f.\n",
    "        Update self.f_history and self.beta_history accordingly.\n",
    "        \n",
    "        Parameters:\n",
    "        -----------\n",
    "        max_iter: int\n",
    "            Maximum number of iterations.        \n",
    "        \"\"\"\n",
    "        # Use the gradient descent optimiser to optimise f.\n",
    "        # 1. In every iteration, take a gradient descent step.\n",
    "        # 2. Update self.beta_history.\n",
    "        # Does not return anything.\n",
    "        # TODO\n",
    "        for i in range(max_iter) :\n",
    "            self.step()\n",
    "            self.beta_history.append(self.beta)\n",
    "            \n",
    "    def print_result(self):\n",
    "        \"\"\" Print out result once optimization is complete.        \n",
    "        \"\"\"\n",
    "        sys.stdout.write(\" === Result ===\\n\")\n",
    "        sys.stdout.write(\"Best beta found: \" + str(self.beta) +'\\n')\n",
    "        sys.stdout.write(\"f(best beta) = \" + str(self.f(self.beta)) + '\\n')\n",
    "        sys.stdout.write(\"f\\'(best beta) = \" + str(self.fprime(self.beta)) + '\\n')"
   ]
  },
  {
   "cell_type": "markdown",
   "metadata": {},
   "source": [
    "Let us try to optimise a simple function with this optimizer. Define a function $f(x) = \\left(x - \\begin{pmatrix}5 \\\\ 4\\end{pmatrix}\\right)^2$. Note that the input to $f$ is a vector of size 2. "
   ]
  },
  {
   "cell_type": "markdown",
   "metadata": {},
   "source": [
    "__Question:__ Fill in the functions below."
   ]
  },
  {
   "cell_type": "code",
<<<<<<< HEAD
   "execution_count": 3,
   "metadata": {},
=======
   "execution_count": null,
   "metadata": {
    "collapsed": true
   },
>>>>>>> 88b1abc6275f56d9fc1363a4bfa8974e0e0b308d
   "outputs": [],
   "source": [
    "def f(x):\n",
    "    return np.linalg.norm(x - np.array([5,4]))**2"
   ]
  },
  {
   "cell_type": "markdown",
   "metadata": {},
   "source": [
    "Now define another function which is the gradient of $f$ at a point $x$. "
   ]
  },
  {
   "cell_type": "code",
   "execution_count": 4,
   "metadata": {},
   "outputs": [],
   "source": [
    "def fprime(x):\n",
    "    return 2*(x - np.array([5,4]))"
   ]
  },
  {
   "cell_type": "markdown",
   "metadata": {},
   "source": [
    "Now check that f and fprime do what you want them to do:"
   ]
  },
  {
   "cell_type": "code",
   "execution_count": 5,
   "metadata": {
    "collapsed": true,
    "scrolled": true
   },
   "outputs": [
    {
     "name": "stdout",
     "output_type": "stream",
     "text": [
      "16.0\n",
      "[ 0 -8]\n"
     ]
    }
   ],
   "source": [
    "print(f(np.array([5,0])))\n",
    "print(fprime(np.array([5,0])))"
   ]
  },
  {
   "cell_type": "markdown",
   "metadata": {},
   "source": [
    "Now initialise a `GradientDescentOptimizer` using this function and its gradient. Run the optimise by calling `.optimize()`. Also, call `gd.print_result()` to see how the optimisation turned out."
   ]
  },
  {
   "cell_type": "code",
<<<<<<< HEAD
   "execution_count": 6,
   "metadata": {},
   "outputs": [
    {
     "name": "stdout",
     "output_type": "stream",
     "text": [
      " === Result ===\n",
      "Best beta found: [ 5.  4.]\n",
      "f(best beta) = 1.36627698339e-18\n",
      "f'(best beta) = [ -1.91122673e-09  -1.34622447e-09]\n"
     ]
    }
   ],
=======
   "execution_count": null,
   "metadata": {
    "collapsed": true
   },
   "outputs": [],
>>>>>>> 88b1abc6275f56d9fc1363a4bfa8974e0e0b308d
   "source": [
    "gd = GradientDescentOptimizer(f, fprime, start=np.random.normal(size=(2,), loc=0.0, scale=1.0), lr=1e-1)\n",
    "# TODO\n",
    "gd.optimize()\n",
    "gd.print_result()"
   ]
  },
  {
   "cell_type": "markdown",
   "metadata": {},
   "source": [
    "Plot the progression of the value of `f` and see how it goes.\n",
    "Plot also the norm of the gradient at each point (Hint: use the `beta_history` parameter)"
   ]
  },
  {
   "cell_type": "code",
<<<<<<< HEAD
   "execution_count": 7,
   "metadata": {},
   "outputs": [
    {
     "data": {
      "text/plain": [
       "<matplotlib.legend.Legend at 0x7fcf85c54f60>"
      ]
     },
     "execution_count": 7,
     "metadata": {},
     "output_type": "execute_result"
    },
    {
     "data": {
      "image/png": "iVBORw0KGgoAAAANSUhEUgAAAXQAAAD8CAYAAABn919SAAAABHNCSVQICAgIfAhkiAAAAAlwSFlz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\niKSJ/w9bSxyU4mbRCgAAAABJRU5ErkJggg==\n",
      "text/plain": [
       "<matplotlib.figure.Figure at 0x7fcf3d368908>"
      ]
     },
     "metadata": {},
     "output_type": "display_data"
    }
   ],
=======
   "execution_count": null,
   "metadata": {
    "collapsed": true
   },
   "outputs": [],
>>>>>>> 88b1abc6275f56d9fc1363a4bfa8974e0e0b308d
   "source": [
    "plt.figure()\n",
    "f_v, = plt.plot([gd.f(x) for x in gd.beta_history])\n",
    "g_v, = plt.plot([np.linalg.norm(gd.fprime(x)) for x in gd.beta_history])\n",
    "plt.legend([f_v, g_v], ['f(x)', '||f\\'(x)||**2'])"
   ]
  },
  {
   "cell_type": "markdown",
   "metadata": {},
   "source": [
    "# 1. Linear regression\n",
    "\n",
    "We will now implement a linear regression, first using the closed form solution, and second with our gradient descent.\n",
    "\n",
    "## 1.1 Linear regression data\n",
    "\n",
    "Our first data set regards the quality ratings of a white _vinho verde_. Each wine is described by a number of physico-chemical descriptors such as acidity, sulfur dioxide content, density or pH."
   ]
  },
  {
   "cell_type": "code",
<<<<<<< HEAD
   "execution_count": 8,
   "metadata": {},
   "outputs": [
    {
     "data": {
      "text/html": [
       "<div>\n",
       "<style>\n",
       "    .dataframe thead tr:only-child th {\n",
       "        text-align: right;\n",
       "    }\n",
       "\n",
       "    .dataframe thead th {\n",
       "        text-align: left;\n",
       "    }\n",
       "\n",
       "    .dataframe tbody tr th {\n",
       "        vertical-align: top;\n",
       "    }\n",
       "</style>\n",
       "<table border=\"1\" class=\"dataframe\">\n",
       "  <thead>\n",
       "    <tr style=\"text-align: right;\">\n",
       "      <th></th>\n",
       "      <th>fixed acidity</th>\n",
       "      <th>volatile acidity</th>\n",
       "      <th>citric acid</th>\n",
       "      <th>residual sugar</th>\n",
       "      <th>chlorides</th>\n",
       "      <th>free sulfur dioxide</th>\n",
       "      <th>total sulfur dioxide</th>\n",
       "      <th>density</th>\n",
       "      <th>pH</th>\n",
       "      <th>sulphates</th>\n",
       "      <th>alcohol</th>\n",
       "      <th>quality</th>\n",
       "    </tr>\n",
       "  </thead>\n",
       "  <tbody>\n",
       "    <tr>\n",
       "      <th>0</th>\n",
       "      <td>7.0</td>\n",
       "      <td>0.27</td>\n",
       "      <td>0.36</td>\n",
       "      <td>20.7</td>\n",
       "      <td>0.045</td>\n",
       "      <td>45.0</td>\n",
       "      <td>170.0</td>\n",
       "      <td>1.0010</td>\n",
       "      <td>3.00</td>\n",
       "      <td>0.45</td>\n",
       "      <td>8.8</td>\n",
       "      <td>6</td>\n",
       "    </tr>\n",
       "    <tr>\n",
       "      <th>1</th>\n",
       "      <td>6.3</td>\n",
       "      <td>0.30</td>\n",
       "      <td>0.34</td>\n",
       "      <td>1.6</td>\n",
       "      <td>0.049</td>\n",
       "      <td>14.0</td>\n",
       "      <td>132.0</td>\n",
       "      <td>0.9940</td>\n",
       "      <td>3.30</td>\n",
       "      <td>0.49</td>\n",
       "      <td>9.5</td>\n",
       "      <td>6</td>\n",
       "    </tr>\n",
       "    <tr>\n",
       "      <th>2</th>\n",
       "      <td>8.1</td>\n",
       "      <td>0.28</td>\n",
       "      <td>0.40</td>\n",
       "      <td>6.9</td>\n",
       "      <td>0.050</td>\n",
       "      <td>30.0</td>\n",
       "      <td>97.0</td>\n",
       "      <td>0.9951</td>\n",
       "      <td>3.26</td>\n",
       "      <td>0.44</td>\n",
       "      <td>10.1</td>\n",
       "      <td>6</td>\n",
       "    </tr>\n",
       "    <tr>\n",
       "      <th>3</th>\n",
       "      <td>7.2</td>\n",
       "      <td>0.23</td>\n",
       "      <td>0.32</td>\n",
       "      <td>8.5</td>\n",
       "      <td>0.058</td>\n",
       "      <td>47.0</td>\n",
       "      <td>186.0</td>\n",
       "      <td>0.9956</td>\n",
       "      <td>3.19</td>\n",
       "      <td>0.40</td>\n",
       "      <td>9.9</td>\n",
       "      <td>6</td>\n",
       "    </tr>\n",
       "    <tr>\n",
       "      <th>4</th>\n",
       "      <td>7.2</td>\n",
       "      <td>0.23</td>\n",
       "      <td>0.32</td>\n",
       "      <td>8.5</td>\n",
       "      <td>0.058</td>\n",
       "      <td>47.0</td>\n",
       "      <td>186.0</td>\n",
       "      <td>0.9956</td>\n",
       "      <td>3.19</td>\n",
       "      <td>0.40</td>\n",
       "      <td>9.9</td>\n",
       "      <td>6</td>\n",
       "    </tr>\n",
       "  </tbody>\n",
       "</table>\n",
       "</div>"
      ],
      "text/plain": [
       "   fixed acidity  volatile acidity  citric acid  residual sugar  chlorides  \\\n",
       "0            7.0              0.27         0.36            20.7      0.045   \n",
       "1            6.3              0.30         0.34             1.6      0.049   \n",
       "2            8.1              0.28         0.40             6.9      0.050   \n",
       "3            7.2              0.23         0.32             8.5      0.058   \n",
       "4            7.2              0.23         0.32             8.5      0.058   \n",
       "\n",
       "   free sulfur dioxide  total sulfur dioxide  density    pH  sulphates  \\\n",
       "0                 45.0                 170.0   1.0010  3.00       0.45   \n",
       "1                 14.0                 132.0   0.9940  3.30       0.49   \n",
       "2                 30.0                  97.0   0.9951  3.26       0.44   \n",
       "3                 47.0                 186.0   0.9956  3.19       0.40   \n",
       "4                 47.0                 186.0   0.9956  3.19       0.40   \n",
       "\n",
       "   alcohol  quality  \n",
       "0      8.8        6  \n",
       "1      9.5        6  \n",
       "2     10.1        6  \n",
       "3      9.9        6  \n",
       "4      9.9        6  "
      ]
     },
     "execution_count": 8,
     "metadata": {},
     "output_type": "execute_result"
    }
   ],
=======
   "execution_count": null,
   "metadata": {
    "collapsed": true
   },
   "outputs": [],
>>>>>>> 88b1abc6275f56d9fc1363a4bfa8974e0e0b308d
   "source": [
    "# load the regression task data\n",
    "wine_data = pd.read_csv('data/winequality-white.csv', sep=\";\")\n",
    "wine_data.head(5)"
   ]
  },
  {
   "cell_type": "code",
<<<<<<< HEAD
   "execution_count": 9,
   "metadata": {},
=======
   "execution_count": null,
   "metadata": {
    "collapsed": true
   },
>>>>>>> 88b1abc6275f56d9fc1363a4bfa8974e0e0b308d
   "outputs": [],
   "source": [
    "# Load the data into X and y data arrays\n",
    "X_regr = wine_data.drop(['quality'], axis=1).values\n",
    "y_regr = wine_data['quality'].values\n",
    "\n",
    "# Standardize the data\n",
    "sc = preprocessing.StandardScaler()\n",
    "sc.fit(X_regr)\n",
    "X_regr = sc.transform(X_regr)"
   ]
  },
  {
   "cell_type": "markdown",
   "metadata": {},
   "source": [
    "## 1.2 Cross-validation\n",
    "\n",
    "Let us create a cross-validation utility function (similar to what we have done in Lab 3, but for regression)."
   ]
  },
  {
   "cell_type": "code",
<<<<<<< HEAD
   "execution_count": 10,
   "metadata": {},
   "outputs": [
    {
     "name": "stderr",
     "output_type": "stream",
     "text": [
      "/home/thomas/.local/lib/python3.5/site-packages/sklearn/cross_validation.py:41: DeprecationWarning: This module was deprecated in version 0.18 in favor of the model_selection module into which all the refactored classes and functions are moved. Also note that the interface of the new CV iterators are different from that of this module. This module will be removed in 0.20.\n",
      "  \"This module will be removed in 0.20.\", DeprecationWarning)\n"
     ]
    }
   ],
=======
   "execution_count": null,
   "metadata": {
    "collapsed": true
   },
   "outputs": [],
>>>>>>> 88b1abc6275f56d9fc1363a4bfa8974e0e0b308d
   "source": [
    "# set up folds for cross_validation\n",
    "from sklearn import cross_validation\n",
    "folds_regr = cross_validation.KFold(y_regr.size, n_folds=10, shuffle=True)"
   ]
  },
  {
   "cell_type": "code",
   "execution_count": 11,
   "metadata": {},
   "outputs": [],
   "source": [
    "def cross_validate_regr(design_matrix, labels, regressor, cv_folds):\n",
    "    \"\"\" Perform a cross-validation and returns the predictions.\n",
    "    \n",
    "    Parameters:\n",
    "    -----------\n",
    "    design_matrix: (n_samples, n_features) np.array\n",
    "        Design matrix for the experiment.\n",
    "    labels: (n_samples, ) np.array\n",
    "        Vector of labels.\n",
    "    regressor:  Regressor instance; must have the following methods:\n",
    "        - fit(X, y) to train the regressor on the data X, y\n",
    "        - predict(X) to apply the trained regressor to the data X and return estimates \n",
    "    cv_folds: sklearn cross-validation object\n",
    "        Cross-validation iterator.\n",
    "        \n",
    "    Returns:\n",
    "    -------\n",
    "    pred: (n_samples, ) np.array\n",
    "        Vectors of predictions (same order as labels).\n",
    "    \"\"\"\n",
    "    pred = np.zeros(labels.shape)\n",
    "    for tr, te in cv_folds:\n",
    "        regressor.fit(design_matrix[tr,:], labels[tr])\n",
    "        pred[te] = (regressor.predict(design_matrix[te,:]))\n",
    "    return pred"
   ]
  },
  {
   "cell_type": "markdown",
   "metadata": {},
   "source": [
    "## 1.3 Linear regression implementation\n",
    "\n",
    "### Closed-form solution\n",
    "\n",
    "For an input vector $X^T = (X_1 , X_2 , \\dots , X_p )$, and a real-valued output Y, the linear regression model\n",
    "has the form $$f(X) = \\beta_0 + \\sum_{j=1}^pX_j\\beta_j$$\n",
    "We consider a set of training data $(x_1 , y_1 ) \\dots (x_N , y_N )$ from which to estimate the parameters $\\beta$.\n",
    "\n",
    "The most popular estimation method is least squares, in which the coefficients $\\beta = (\\beta_0 , \\beta_1 , \\dots , \\beta_p )^T$ minimize the residual sum of squares $$ RSS(\\beta) = \\sum_{i=1}^N(y_i-f(x_i))^2 = (y-X\\beta)^T(y-X\\beta)$$"
   ]
  },
  {
   "cell_type": "markdown",
   "metadata": {},
   "source": [
    "The problem is convex.\n",
    "\n",
    "Differentiating with respect to $\\beta$ we obtain $$\\frac{\\partial{RSS}}{\\partial{\\beta}} = -2X^T(y-X\\beta) $$\n",
    "\n",
    "If X^TX is inversible, we obtain a unique solution by setting the first derivative to 0.\n",
    "$$\\hat{\\beta} = (X^TX)^{-1}X^Ty$$"
   ]
  },
  {
   "cell_type": "markdown",
   "metadata": {},
   "source": [
    "** Remark ** It might happen that the columns of X are not linearly independent (in the case for example of two perfectly correlated inputs). Then $X^TX$ is singular and the least squares coefficients $\\hat{\\beta}$ are not uniquely defined.\n",
    "This can be avoid by dropping redundant columns in X."
   ]
  },
  {
   "cell_type": "markdown",
   "metadata": {},
   "source": [
    "__Question:__ Fill in the LeastSquareRegr class below."
   ]
  },
  {
   "cell_type": "code",
   "execution_count": 12,
   "metadata": {},
   "outputs": [],
   "source": [
    "class LeastSquaresRegr():\n",
    "    \"\"\" Class for least-squares linear regression:\n",
    "    \n",
    "    Attributes:\n",
    "    -----------\n",
    "    coef_: 1-dimensional np.array\n",
    "        coefficients of the linear regression (beta)\n",
    "    \"\"\"\n",
    "    def __init__(self,):\n",
    "        self.coef_ = None\n",
    "        \n",
    "    def fit(self, X, y):\n",
    "        \"\"\" Fit the data (X, y).\n",
    "    \n",
    "        Parameters:\n",
    "        -----------\n",
    "        X: (num_samples, num_features) np.array\n",
    "            Design matrix\n",
    "        y: (num_sampes, ) np.array\n",
    "            Output vector\n",
    "        \n",
    "        Note:\n",
    "        -----\n",
    "        Updates self.coef_\n",
    "        \"\"\"\n",
    "        # Create a (num_samples, num_features+1) np.array X_aug whose first column \n",
    "        # is a column of all ones (so as to fit an intercept).\n",
    "        X_aug = np.insert(X, 0, 1, axis=1)\n",
    "\n",
    "        # Update self.coef_\n",
    "        self.coef_ = (np.dot(np.linalg.inv(X_aug.T.dot(X_aug)), X_aug.T)).dot(y)\n",
    "        \n",
    "    def predict(self, X):\n",
    "        \"\"\" Make predictions for data X.\n",
    "    \n",
    "        Parameters:\n",
    "        -----------\n",
    "        X: (num_samples, num_features) np.array\n",
    "            Design matrix\n",
    "        \n",
    "        Returns:\n",
    "        -----\n",
    "        y_pred: (num_samples, ) np.array\n",
    "            Predictions\n",
    "        \"\"\"\n",
    "        X_aug = np.insert(X, 0, 1, axis=1)\n",
    "        return self.coef_.dot(X_aug.T)"
   ]
  },
  {
   "cell_type": "markdown",
   "metadata": {},
   "source": [
    "Let us now evaluate your least squares regression on the data:"
   ]
  },
  {
   "cell_type": "code",
<<<<<<< HEAD
   "execution_count": 13,
   "metadata": {},
   "outputs": [
    {
     "name": "stdout",
     "output_type": "stream",
     "text": [
      "Mean squared error: 0.570\n"
     ]
    }
   ],
=======
   "execution_count": null,
   "metadata": {
    "collapsed": true
   },
   "outputs": [],
>>>>>>> 88b1abc6275f56d9fc1363a4bfa8974e0e0b308d
   "source": [
    "regr = LeastSquaresRegr()\n",
    "pred = cross_validate_regr(X_regr, y_regr, regr, folds_regr)\n",
    "print(\"Mean squared error: %.3f\" % metrics.mean_squared_error(y_regr,pred))"
   ]
  },
  {
   "cell_type": "markdown",
   "metadata": {},
   "source": [
    "### Gradient descent solution\n",
    "\n",
    "Processing the entire dataset in one go can be computationally costly for large datasets. In addition, a small change in the training set involves computing the new parameters from scratch. In both cases, it may be worthwhile to use sequential algorithms in which the datapoints are considered one at a time and the model parameters updated at each time. \n",
    "\n",
    "We will create a sequential version of our least squares regressor, using gradient descent. \n",
    "\n",
    "__Question:__ Fill in the blanks.\n",
    "\n",
    "__Hints:__ You can use [np.reshape](https://docs.scipy.org/doc/numpy/reference/generated/numpy.reshape.html) to cast a 1-dimensional np.array `V` of shape `(n,)` as a 2-dimensional np.array of shape `(n, 1)` using `np.reshape(V, [-1,1])`."
   ]
  },
  {
   "cell_type": "code",
   "execution_count": 26,
   "metadata": {
    "scrolled": true
   },
   "outputs": [],
   "source": [
    "class seq_LeastSquaresRegr():\n",
    "    \"\"\" Class for sequential least-squares linear regression:\n",
    "    \n",
    "    Attributes:\n",
    "    -----------\n",
    "    coef_: 1-dimensional np.array\n",
    "        coefficients of the linear regression (beta)\n",
    "    \"\"\"\n",
    "    def __init__(self):\n",
    "        self.coef_ = None\n",
    "        \n",
    "    def fit(self, X, y):\n",
    "        \"\"\" Fit the data (X, y).\n",
    "    \n",
    "        Parameters:\n",
    "        -----------\n",
    "        X: (num_samples, num_features) np.array\n",
    "            Design matrix\n",
    "        y: (num_sampes, ) np.array\n",
    "            Output vector\n",
    "        \n",
    "        Note:\n",
    "        -----\n",
    "        Updates self.coef_\n",
    "        \"\"\"\n",
    "        # Create a (num_samples, num_features+1) np.array X_aug whose first column \n",
    "        #    is a column of all ones (for beta_0). The rest of the columns are taken\n",
    "        #    from X.\n",
    "        X_aug = np.insert(X, 0, 1, axis=1)\n",
    "        \n",
    "        # Initialize self.coef_ at random, with shape (num_features+1,)\n",
    "        self.coef_ = np.random.random(len(X_aug[0]))\n",
    "         \n",
    "        def f_ls(beta):\n",
    "            \"\"\" Returns the least square error between y and X.beta.        \n",
    "            \"\"\"\n",
    "            phi = np.squeeze(np.dot(X_aug, beta.reshape([-1, 1])))\n",
    "            return np.mean(0.5*(y-phi)**2)\n",
    "        \n",
    "        def fprime_ls(beta):\n",
    "            \"\"\" Returns the gradient of f_ls at beta.\n",
    "            IMPORTANT:  The output should have the same shape as beta,\n",
    "            otherwise our optimiser will not work.\n",
    "            \"\"\"\n",
    "            phi = np.dot(X_aug, beta.reshape([-1,1]))\n",
    "            diff = phi - y.reshape((-1,1))\n",
    "            diff = np.tile(diff, [1, X_aug.shape[1]])\n",
    "            return np.mean(X_aug*diff, axis=0)\n",
    "        \n",
    "        # Use gradient descent optimization to minimize the least squares error.\n",
    "        self.gd = GradientDescentOptimizer(f_ls, fprime_ls, self.coef_, lr=1e-2)\n",
    "        self.gd.optimize(max_iter=1000)\n",
    "        \n",
    "        # Update self.coef_\n",
    "        # You must retrieve gd.beta after the optimisation is complete, and store it in\n",
    "        #    self.coef_.\n",
    "        self.coef_ = self.gd.beta\n",
    "        \n",
    "    def predict(self, X):\n",
    "        \"\"\" Make predictions for data X.\n",
    "    \n",
    "        Parameters:\n",
    "        -----------\n",
    "        X: (num_samples, num_features) np.array\n",
    "            Design matrix\n",
    "        \n",
    "        Returns:\n",
    "        -----\n",
    "        y_pred: (num_samples, ) np.array\n",
    "            Predictions\n",
    "        \"\"\"\n",
    "        # Do not forget to appropriately augment the data matrix!\n",
    "        # Also, do not forget the convention - the first column is all ones, while\n",
    "        #    the rest of the columns are taken from X.\n",
    "        X_aug = np.insert(X, 0, 1, axis=1)\n",
    "        return np.squeeze(np.dot(X_aug, self.coef_.reshape([-1,1])))"
   ]
  },
  {
   "cell_type": "markdown",
   "metadata": {},
   "source": [
    "Let us now evaluate your sequential least squares regression on the data:"
   ]
  },
  {
   "cell_type": "code",
<<<<<<< HEAD
   "execution_count": 27,
   "metadata": {},
   "outputs": [
    {
     "name": "stdout",
     "output_type": "stream",
     "text": [
      "Mean squared error: 0.571\n"
     ]
    }
   ],
=======
   "execution_count": null,
   "metadata": {
    "collapsed": true
   },
   "outputs": [],
>>>>>>> 88b1abc6275f56d9fc1363a4bfa8974e0e0b308d
   "source": [
    "regr = seq_LeastSquaresRegr()\n",
    "pred = cross_validate_regr(X_regr, y_regr, regr, folds_regr)\n",
    "print(\"Mean squared error: %.3f\" % metrics.mean_squared_error(y_regr, pred))"
   ]
  },
  {
   "cell_type": "markdown",
   "metadata": {},
   "source": [
    "** Question ** Discuss the difference of errors between the two implementations."
   ]
  },
  {
   "cell_type": "markdown",
   "metadata": {},
   "source": [
    "__Answer__"
   ]
  },
  {
   "cell_type": "markdown",
   "metadata": {
    "collapsed": true
   },
   "source": [
    "### scikit-learn implementation\n",
    "\n",
    "We will now compare to the scikit-learn implementation.\n",
    "\n",
    "__Question__ Cross-validate scikit-learn's [linear_model.LinearRegression](http://scikit-learn.org/stable/modules/generated/sklearn.linear_model.LinearRegression.html) on your data."
   ]
  },
  {
   "cell_type": "code",
<<<<<<< HEAD
   "execution_count": 28,
   "metadata": {},
   "outputs": [
    {
     "name": "stdout",
     "output_type": "stream",
     "text": [
      "Mean squared error: 0.570\n"
     ]
    }
   ],
=======
   "execution_count": null,
   "metadata": {
    "collapsed": true
   },
   "outputs": [],
>>>>>>> 88b1abc6275f56d9fc1363a4bfa8974e0e0b308d
   "source": [
    "from sklearn import linear_model\n",
    "\n",
    "# Initialize a LinearRegression model\n",
    "regr = linear_model.LinearRegression()\n",
    "\n",
    "# Cross-validate it\n",
    "pred = cross_validate_regr(X_regr, y_regr, regr, folds_regr)\n",
    "print(\"Mean squared error: %.3f\" % metrics.mean_squared_error(y_regr, pred))"
   ]
  },
  {
   "cell_type": "markdown",
   "metadata": {},
   "source": [
    "# 2. Logistic regression\n",
    "\n",
    "We will now implement a linear regression, first using the closed form solution, and second with our gradient descent.\n",
    "\n",
    "## 2.1 Logistic regression data\n",
    "\n",
    "Our second data set comes from the world of bioinformatics. In this data set, each observation is a tumor, and it is described by the expression of 3,000 genes. The expression of a gene is a measure of how much of that gene is present in the biological sample. Because this affects how much of the protein this gene codes for is produced, and because proteins dictacte what cells can do, gene expression gives us valuable information about the tumor. In particular, the expression of the same gene in the same individual is different in different tissues (although the DNA is the same): this is why blood cells look different from skin cells. In our data set, there are two types of tumors: breast tumors and ovary tumors. Let us see if gene expression can be used to separate them!"
   ]
  },
  {
   "cell_type": "code",
<<<<<<< HEAD
   "execution_count": 29,
   "metadata": {},
=======
   "execution_count": null,
   "metadata": {
    "collapsed": false
   },
>>>>>>> 88b1abc6275f56d9fc1363a4bfa8974e0e0b308d
   "outputs": [],
   "source": [
    "# Load the classification task data\n",
    "breast_data = pd.read_csv('data/small_Breast_Ovary.csv')\n",
    "\n",
    "# Drop the 'Tissue' column to create the design matrix\n",
    "X_clf = np.array(breast_data.drop(['Tissue'], axis=1).values)\n",
    "\n",
    "# Use the 'Tissue' column to create the labels (0=Breast, 1=Ovary)\n",
    "y_clf = np.array(breast_data['Tissue'].values)\n",
    "y_clf[np.where(y_clf == 'Breast')] = 0\n",
    "y_clf[np.where(y_clf == 'Ovary')] = 1\n",
    "y_clf = y_clf.astype(np.int)\n",
    "\n",
    "#sc = preprocessing.StandardScaler()\n",
    "#sc.fit(X_clf)\n",
    "#X_clf = sc.transform(X_clf)"
   ]
  },
  {
   "cell_type": "markdown",
   "metadata": {},
   "source": [
    "__Question:__ How many samples do we have? How many belong to each class? How many features do we have?"
   ]
  },
  {
   "cell_type": "code",
   "execution_count": 30,
   "metadata": {},
   "outputs": [
    {
     "name": "stdout",
     "output_type": "stream",
     "text": [
      "Number of samples :  542\n",
      "Number of breast tumors :  198\n",
      "Number of ovary tumors :  344\n",
      "Number of features :  3000\n"
     ]
    }
   ],
   "source": [
    "print(\"Number of samples : \", len(X_clf))\n",
    "print(\"Number of breast tumors : \", np.sum(y_clf))\n",
    "print(\"Number of ovary tumors : \", len(y_clf) - np.sum(y_clf))\n",
    "print(\"Number of features : \", len(X_clf[0]))"
   ]
  },
  {
   "cell_type": "markdown",
   "metadata": {},
   "source": [
    "## 2.2 Cross-validation\n",
    "\n",
    "Let us create a cross-validation utility function (similar to what we have done in Lab 3)."
   ]
  },
  {
   "cell_type": "code",
   "execution_count": 31,
   "metadata": {},
   "outputs": [],
   "source": [
    "# Set up folds for cross_validation\n",
    "from sklearn import cross_validation\n",
    "folds_clf = cross_validation.StratifiedKFold(y_clf, n_folds=10, shuffle=True)"
   ]
  },
  {
   "cell_type": "code",
   "execution_count": 32,
   "metadata": {},
   "outputs": [],
   "source": [
    "def cross_validate_clf(design_matrix, labels, classifier, cv_folds):\n",
    "    \"\"\" Perform a cross-validation and returns the predictions.\n",
    "    \n",
    "    Parameters:\n",
    "    -----------\n",
    "    design_matrix: (n_samples, n_features) np.array\n",
    "        Design matrix for the experiment.\n",
    "    labels: (n_samples, ) np.array\n",
    "        Vector of labels.\n",
    "    classifier:  sklearn classifier object\n",
    "        Classifier instance; must have the following methods:\n",
    "        - fit(X, y) to train the classifier on the data X, y\n",
    "        - predict_proba(X) to apply the trained classifier to the data X and return probability estimates \n",
    "    cv_folds: sklearn cross-validation object\n",
    "        Cross-validation iterator.\n",
    "        \n",
    "    Return:\n",
    "    -------\n",
    "    pred: (n_samples, ) np.array\n",
    "        Vectors of predictions (same order as labels).\n",
    "    \"\"\"\n",
    "    pred = np.zeros(labels.shape)\n",
    "    for tr, te in cv_folds:\n",
    "        classifier.fit(design_matrix[tr,:], labels[tr])\n",
    "        pred[te] = classifier.predict_proba(design_matrix[te,:])[:,1]\n",
    "    return pred"
   ]
  },
  {
   "cell_type": "markdown",
   "metadata": {},
   "source": [
    "## 2.3 Logistic regression implementation\n",
    "\n",
    "Under the assumption of linear boundaries segragating classes, the posterior probability of class $C_1$ can be written as a logistic sigmoid acting on a linear function of the feature vector X so that $p(C_1|X) = \\sigma(\\beta^TX)$.\n",
    "\n",
    "For an input vector $X^T = (X_1 , X_2 , \\dots , X_p )$, and a binary output Y such that $y_i\\in\\{0,1\\}$, the likelihood function is\n",
    "$$ p(y\\vert\\beta) = \\prod_{i=0}^Np(y_i\\vert\\beta) = \\prod_{i=0}^Np(C_1\\vert X)^{y_i}(1-p(C_1\\vert X))^{1-y_i} = \\prod_{i=0}^N\\sigma(\\beta^TX)^{y_i}(1-\\sigma(\\beta^TX))^{1-y_i}.$$\n",
    "\n",
    "We can then define (as usual) an error function to minimize by taking the negative logarithm of the likelihood\n",
    "$$ E_{loss}(\\beta) = -\\log(p(y|\\beta)) = -\\sum_{i=0}^N\\{ y_i\\log(\\sigma(\\beta^Tx_i)) + (1-y_i)\\log(1-\\sigma(\\beta^Tx_i)) \\} = \\sum_{i=0}^N\\log(e^{-y_i*x_i^T\\beta}+1)$$\n",
    "\n",
    "Then it's derivative can be written $$\\nabla E(\\beta) = \\sum_{i=1}^N(\\sigma(x_i^T\\beta)-y_i)x_i.$$\n",
    "\n",
    "__Question:__ Now that you know how to write the loss function for logistic regression, `f(beta)`, and what its derivative `f'(beta)` is in terms of `beta`, use the previously defined `GradientDescentOptimizer` to fit a logistic regression model to our data `(X, y)`. Some of the code below has already been filled to help you. \n",
    "\n",
    "**Remark:** The derivative of logistic function $\\sigma(x)=\\frac{1}{1+e^{-x}}$ can be written $\\text{d}\\sigma = \\sigma (1-\\sigma)$."
   ]
  },
  {
   "cell_type": "code",
   "execution_count": 33,
   "metadata": {},
   "outputs": [],
   "source": [
    "from sklearn import metrics\n",
    "import numpy as np"
   ]
  },
  {
   "cell_type": "code",
   "execution_count": 34,
   "metadata": {},
   "outputs": [],
   "source": [
    "def sigmoid(x):\n",
    "    \"\"\" Sigmoid function.\n",
    "    \n",
    "    Parameters:\n",
    "    -----------\n",
    "    x: np.array\n",
    "        input variables\n",
    "        \n",
    "    Returns:\n",
    "    -------\n",
    "    r: np.array of same dimension as x\n",
    "        outputs\n",
    "    \"\"\"\n",
    "    # Truncate the very large and very small values of x to avoid overflowing the exponential.\n",
    "    x[np.where(x > 7e2)] = 7e2\n",
    "    x[np.where(x < -7e2)] = -7e2\n",
    "    \n",
    "    # Compute the sigmoid\n",
    "    r = 1. / (1 + np.exp(-1*x))\n",
    "    return r"
   ]
  },
  {
   "cell_type": "code",
   "execution_count": 57,
   "metadata": {
    "collapsed": true,
    "scrolled": false
   },
   "outputs": [],
   "source": [
    "class LogisticRegr():\n",
    "    \"\"\" Class for sequential least-squares linear regression:\n",
    "    \n",
    "    Attributes:\n",
    "    -----------\n",
    "    coef_: 1-dimensional np.array\n",
    "        coefficients of the linear regression (beta)\n",
    "    classes: list\n",
    "        list of class labels\n",
    "    \"\"\"\n",
    "    def __init__(self,):\n",
    "        self.coef_ = None\n",
    "        self.classes_ = [0,1]\n",
    "        \n",
    "    def fit(self, X, y):\n",
    "        \"\"\" Fit the data (X, y).\n",
    "    \n",
    "        Parameters:\n",
    "        -----------\n",
    "        X: (num_samples, num_features) np.array\n",
    "            Design matrix\n",
    "        y: (num_sampes, ) np.array\n",
    "            Output vector\n",
    "        \n",
    "        Note:\n",
    "        -----\n",
    "        Updates self.coef_\n",
    "        \"\"\"\n",
    "        # Create a (num_samples, num_features+1) np.array X_aug whose first column \n",
    "        #    is a column of all ones (for beta_0), while the remaining columns are \n",
    "        #    taken from X.\n",
    "        X_aug = np.insert(X, 0, 1, axis=1)\n",
    "        \n",
    "        # Initialize self.coef_ at random, with the right shape\n",
    "        coef_ = np.random.normal(size=(len(X_aug[1]),), loc=0.0, scale=0.1)\n",
    "         \n",
    "        # Find the indices which correspond to class 0\n",
    "        c0_ids = np.where(y == 0)[0] \n",
    "        # Find the indices which correspond to class 1. \n",
    "        c1_ids = np.where(y == 1)[0]\n",
    "            \n",
    "        def f_lr(beta):            \n",
    "            \"\"\" \n",
    "            Returns the logistic loss between y and X.beta.        \n",
    "            \"\"\"\n",
    "            # Reshape beta as a two-dimensional array with second dimension equal to 1\n",
    "            beta  = np.reshape(beta, [-1,1])\n",
    "            \n",
    "            # Compute phi_0, the model's prediction for class 0 samples\n",
    "            phi_0 = sigmoid(np.dot(X_aug[c0_ids,:], beta))\n",
    "            \n",
    "            # Compute phi_1, the model's prediction for class 1 samples\n",
    "            phi_1 = sigmoid(np.dot(X_aug[c1_ids,:], beta))\n",
    "            \n",
    "            # Compute the loss over class 1 samples\n",
    "            loss = -1*np.sum(np.log(phi_1))\n",
    "            # Update the loss with the loss over class 0 samples\n",
    "            loss -= np.sum(np.log(1 - phi_0))\n",
    "            return loss\n",
    "        \n",
    "        def fprime_lr(beta):   \n",
    "            \"\"\" Returns the gradient of f_ls at beta.\n",
    "            IMPORTANT:  The output should have the same shape as beta,\n",
    "            otherwise our optimiser will not work!\n",
    "            \"\"\"\n",
    "            phi = sigmoid(np.dot(X_aug, beta.reshape([-1,1])))\n",
    "            diff = phi - y.reshape([-1,1])\n",
    "            grad = X_aug * diff\n",
    "            return np.mean(grad, axis=0)\n",
    "        \n",
    "        # Now optimize the loss over the data:\n",
    "        # Use GradientDescentOptmizer to update self.coef_\n",
    "        self.gd = GradientDescentOptimizer(f_lr, fprime_lr, coef_, lr=2e-2)\n",
    "        self.gd.optimize(max_iter=100)\n",
    "        self.coef_ = self.gd.beta\n",
    "        \n",
    "    def predict_proba(self, X):\n",
    "        \"\"\" Make probabilistic predictions for data X.\n",
    "    \n",
    "        Parameters:\n",
    "        -----------\n",
    "        X: (num_samples, num_features) np.array\n",
    "            Design matrix\n",
    "        \n",
    "        Returns:\n",
    "        -----\n",
    "        y_pred: (num_samples, ) np.array\n",
    "            Predictions (probabilities of belonging to class 1)\n",
    "        \"\"\"\n",
    "        # IMPORTANT: Do not forget to augment the data matrix X in the same\n",
    "        #    fashion as you did for the fit method.\n",
    "        X_aug = np.insert(X, 0, 1, axis=1)\n",
    "        r = sigmoid(np.dot(X_aug, self.coef_.reshape([-1,1]))).squeeze()\n",
    "        pred = np.zeros((len(X),2))\n",
    "        pred[:,1] = r\n",
    "        pred[:,0] = 1 - r\n",
    "        return pred\n",
    "    \n",
    "    def predict(self, X):\n",
    "        \"\"\" Make binary predictions for data X.\n",
    "    \n",
    "        Parameters:\n",
    "        -----------\n",
    "        X: (num_samples, num_features) np.array\n",
    "            Design matrix\n",
    "        \n",
    "        Returns:\n",
    "        -----\n",
    "        y_pred: (num_samples, ) np.array\n",
    "            Predictions (0 or 1)\n",
    "        \"\"\"\n",
    "        pred = self.predict_proba(X)\n",
    "        return pred.argmax(axis=1)"
   ]
  },
  {
   "cell_type": "code",
   "execution_count": 58,
   "metadata": {},
   "outputs": [
    {
     "name": "stdout",
     "output_type": "stream",
     "text": [
      "(5,) [1 2 3 4 5]\n",
      "(5, 1) [[1]\n",
      " [2]\n",
      " [3]\n",
      " [4]\n",
      " [5]]\n",
      "(5,) [1 2 3 4 5]\n",
      "(5, 7)\n",
      "[[1 1 1 1 1 1 1]\n",
      " [2 2 2 2 2 2 2]\n",
      " [3 3 3 3 3 3 3]\n",
      " [4 4 4 4 4 4 4]\n",
      " [5 5 5 5 5 5 5]]\n"
     ]
    }
   ],
   "source": [
    "# Test some Numpy cool functions\n",
    "x = np.array([1,2,3,4,5])\n",
    "print(x.shape, x)\n",
    "x2 = x.reshape([-1,1])\n",
    "print(x2.shape, x2)\n",
    "x3 = np.squeeze(x2)\n",
    "print(x3.shape, x3)\n",
    "M = np.tile(x2, [1,7])\n",
    "print(M.shape)\n",
    "print(M)"
   ]
  },
  {
   "cell_type": "markdown",
   "metadata": {},
   "source": [
    "Let us now evaluate your logistic regression on the data:"
   ]
  },
  {
   "cell_type": "code",
<<<<<<< HEAD
   "execution_count": 59,
   "metadata": {},
   "outputs": [
    {
     "name": "stdout",
     "output_type": "stream",
     "text": [
      "Accuracy: 0.939\n"
     ]
    }
   ],
=======
   "execution_count": null,
   "metadata": {
    "collapsed": true
   },
   "outputs": [],
>>>>>>> 88b1abc6275f56d9fc1363a4bfa8974e0e0b308d
   "source": [
    "clf = LogisticRegr()\n",
    "pred = cross_validate_clf(X_clf, y_clf, clf, folds_clf)\n",
    "print(\"Accuracy: %.3f\" % metrics.accuracy_score(y_clf, pred > 0.5))"
   ]
  },
  {
   "cell_type": "markdown",
   "metadata": {
    "collapsed": true
   },
   "source": [
    "### scikit-learn implementation\n",
    "\n",
    "We will now compare to the scikit-learn implementation.\n",
    "\n",
    "__Question__ Cross-validate scikit-learn's [linear_model.LogisticRegression](http://scikit-learn.org/stable/modules/generated/sklearn.linear_model.LogisticRegression.html) on your data."
   ]
  },
  {
   "cell_type": "code",
<<<<<<< HEAD
   "execution_count": 60,
   "metadata": {},
   "outputs": [
    {
     "name": "stdout",
     "output_type": "stream",
     "text": [
      "Accuracy: 0.959\n"
     ]
    }
   ],
=======
   "execution_count": null,
   "metadata": {
    "collapsed": true
   },
   "outputs": [],
>>>>>>> 88b1abc6275f56d9fc1363a4bfa8974e0e0b308d
   "source": [
    "from sklearn import linear_model\n",
    "\n",
    "# Initialize a LogisticRegression model. \n",
    "# Use C=1e7 to ensure there is no regularization (we'll talk about regularization next time!)\n",
    "clf = linear_model.LogisticRegression(C=1e7)\n",
    "\n",
    "# Cross-validate it\n",
    "ypred_logreg = cross_validate_regr(X_clf, y_clf, clf, folds_clf)\n",
    "print(\"Accuracy: %.3f\" % metrics.accuracy_score(y_clf, ypred_logreg > 0.5))"
   ]
  },
  {
   "cell_type": "markdown",
   "metadata": {},
   "source": [
    "** Question : ** Plot the ROC curve. Use plt.semilogx to use a logarithmic scale on the x-axis. This \"spreads out\" the curve a little, making it easier to read."
   ]
  },
  {
   "cell_type": "code",
<<<<<<< HEAD
   "execution_count": 67,
   "metadata": {},
   "outputs": [
    {
     "name": "stdout",
     "output_type": "stream",
     "text": [
      "[[  1.00000000e+00   2.81868641e-15]\n",
      " [  9.99993983e-01   6.01709592e-06]\n",
      " [  9.99907887e-01   9.21127430e-05]\n",
      " ..., \n",
      " [  2.52962096e-11   1.00000000e+00]\n",
      " [  2.26693537e-04   9.99773306e-01]\n",
      " [  2.72016475e-07   9.99999728e-01]]\n",
      "[ 0.  0.  0.  0.  1.]\n",
      "[ 0.04040404  0.04545455  0.05555556  1.          1.        ]\n"
     ]
    },
    {
     "name": "stderr",
     "output_type": "stream",
     "text": [
      "/home/thomas/.local/lib/python3.5/site-packages/matplotlib/axes/_base.py:2917: UserWarning: Attempting to set identical left==right results\n",
      "in singular transformations; automatically expanding.\n",
      "left=1.0, right=1.0\n",
      "  'left=%s, right=%s') % (left, right))\n"
     ]
    },
    {
     "data": {
      "text/plain": [
       "<matplotlib.legend.Legend at 0x7fcf3b2b2048>"
      ]
     },
     "execution_count": 67,
     "metadata": {},
     "output_type": "execute_result"
    },
    {
     "data": {
      "image/png": "iVBORw0KGgoAAAANSUhEUgAAAYoAAAEhCAYAAABhpec9AAAABHNCSVQICAgIfAhkiAAAAAlwSFlz\nAAALEgAACxIB0t1+/AAAIABJREFUeJzt3XmYHFX59vHvbQIEwiKEBDAhJJAAAgLCyKKoIEQjKogo\ngrIpiMoPReRVUVzYVBAQEUQFQVk0iKAQxSSgEBQ0kAmbIYhESGCSQFY2gYTA8/5xaqDS6a6pmemZ\n7gz357r6mulTp6qe7p7pp85SVYoIzMzManlDowMwM7Pm5kRhZmaFnCjMzKyQE4WZmRVyojAzs0JO\nFGZmVsiJokEkHSkpco9lkv4r6XuSBtRY522SrpP0pKSlkmZJukjS0Br1V5N0rKQ7JD2VrfOopMsk\n7dSzr7C5Ze/dVb24vxHZ53xkJ9bZU9Ipkt5QUd7pbVkiabKkyY2OY1XTv9EBGB8D2oB1gAOAr2e/\nfyFfSdJhwC+B24HjgbnAm4GvAh+VtE9E3J+rPxCYALwN+BnwPeA5YBRwKPBXYP2efGG2gnnA7sB/\nO7HOnsB3gDOAV7q5LUuObXQAqyL5hLvGyI4GfwmMjoiZufKbgbcD60TEK1nZ1sC9wJ+Ag9rLs2WD\ngDtJXyTbRsRLWfkvgMOAPSPin1X2f0BE/KGHXl6HJK0REUsbuP9ZwO0RcWijYuiIpFNIiWK1iFje\ni/vtlc9GkkivbVlP78u6x11PzeduYC1gw1zZ8UA/4Av5JAEQEYuAbwCjgY8ASNoEOAK4pFqSyNbr\nMElIerekmyU9Lel/ku6TdFRueWRfZvl1VuoWkfQrSW2Sdpf0D0kvAD+QdKOku6vsdxNJyyWdkCsb\nKenXkhZkXWj3Sjqgo9fQHVkcV0hamO3zfkkrJRZJ+0i6R9KLkmZKOjp7zbNydaq9L2/L3t9Fkl6Q\n9Iiki7Jlp5CSBMBL7V2UtbaVlRd+XjVe42RJt0v6UPYalpIddUvqL+nrkv6dvf65ks6t7BqVtLmk\nP0t6XtL8rM4xWYwjcvVmSbpK0qcl/RtYBnwgW7aWpLOyrtFl2c+T891uktaWdIGkx7J45kv6S3Yg\n1V7neEkPZu/nEkmt+b+Tal1PkraS9Ael7tkXJE2RNLaizinZ6xmd/d0+J2m2pG+romuwL3LXU/MZ\nATwNLMqV7Q20RsS8GuvcSGpRvAf4LbAX6bMd39UgJO0PXAfcAXwWWAhsC2zWxU2uB1wNnENKbC8A\nI4FxkraJiBm5up/Ifv4mi2VTUqtpPnACsAD4OHCdpA9HxPis3gjgUeDUiDili3GSbWsgcBupe+4b\nwOOkLrsrJa0VERdn9bYhvf93AQcDqwPfyl7vK1U23b79tYFJ2XpHAs+SPvu3Z1V+AQwDjgL2AF7u\nIN7ufF5bAj8GTgceARZn5VcBHwLOAv5B6uo8PYvzwGy/qwM3A2sAnyd9NkcDH62xr72AHYFTSZ/n\nLEn9Se/FNtn2/wXsRnofNwBOzNY9D9iP9Hk8DAwC3gG8MYvlk8C5wGnA34E1ge2zbVQl6U2k7txn\ngeNI/3v/B9wo6YMRMaFilT+QegLOy96bU0l/G7+stY8+ISL8aMCD9OUQwFakL/X1gU8Dy4HjKuq+\nAIzrYHtPAH/Ofv9a+7a7GJuAWUAr8IaCegGcUlE2Iis/Mlf2q6xs/4q6a5L+Mb9fUX5v+2vJnl9K\n+gIaVFHvZuDe3PPNsvfv2yVe4yzgqoLlx2Ux71lR/hfSF1y/7PlvstjWytXZBHgRmFXrfQFasufb\nF8RwSlanf9F7XPbzqrGPyaSEtmNF+TuzfRxeUf7JrHzH7Pkx2fNdKv5+7svKR1S8588DG1ds87Cs\n7rsqyk8mtTqGZM+nAz8seC0XAneXeL2Tc8/Pyf5mRuXK+gEP5beV+yw+VbG9fwE3deX/bFV69Pkm\n0yrg38BLpKO4S4GfR8SFjQ2JrUhfur+Iiq6ubniJNMbyqoh4AbgW+KQkAUh6C7ADcGWu6ljgz8DT\nWXdI/9xR6A6S1s22Nzsi+kfEaXWI913AnIiYXFF+FTCYdPQL6cj3zxHxfO51zSMdgRd5GHgK+Lmk\nQ7NWU1d19/OaFRH3VpSNJX1JX1vxnt+ULX9X9nM34LGIuKt9xUjfoNfV2NeUiHiiyr5mA/+osq/V\nsn0ATAWOlPQNSS2S+lVsZyqwY9Y9tY+ktUq89ndlMb06ThgRLwPjsm2tW1H/xorn04HhJfazSnOi\naLwDSDOT9iUdrR4r6fCKOm2ko8iqsm6SwaQmMLmfXe0mGpTbb70syP4BK10JbEqa4QPp6PJZ4Ppc\nnSHA4aRkk3+cXRFvPW1Aml1U6Yncckith/lV6j1ZtPGIeJrUDTMXuAh4TNJ0SQd2Idbufl7VXucQ\nUjfa/1jxPW9/re377Ozrr7WvzVj5821PPu37+gLwc1LLeyowX9J5uYRwBan7a1fSQcRiSb/Pj5NU\nUfQ5i5VnBi6ueL4UqDqdvS/xGEXjTW8/mpF0C3A/cLak6yLif1mdvwJHSdokqo9TfICU9G/Jnk8m\n9Wl/iNeOADtjYfaz6vkZOUtJXyZ5tb60a02vuw14DDhU0m2k8Ylrs9ZGu0WkPuezamxjbgdxdsVi\n0pF6pY1zyyF9yQypUm+jjnaQHcUfmB09t5CmRl8jaYeImN6JWMt+XjVDqVK2iNR99s4a67S/5/N4\nrXWVV+v119rXo8BBNdaZBRARz5Heo69L2ow0DnImqeXztawl83NSK2194L2kMYvfkpJHNYt57TPN\n2ziLdUmN9V5X3KJoIpGmJH6F9MWTn+99Pqkf+YLKGRaSNiCdIzET+H22nbmkcYFjJO1ebV+SPlwQ\nyn9I/5xHt3cJ1TAb2K6i7AMF9VeS/XNfRfqn35f0ZXdlRbWJpEHJByKitcqjJ6Zy3gYMk/SOivJP\nkI6g2wffpwD75rs5lGadVa5XU0Qsj4gppMHbN5AGjSElYkhjOUXKfl6dMZF0pLxejfe8PVFMAYZL\n2qV9xSyGzrSMJpJalc/V2NfCyhWybsZzSWMElX+DRMSSiPgtcE215Tm3AbtVzM7qR5oscU9EPNOJ\n19FnuUXRZCJivKSpwImSLoyIFyLiQUmfJc2E+aukn5GO5LYmnXD3RmBMZOdQZL5Ems3SXv8vpBPu\nNicNSLawYvdOPoaQ9CVS4rklW38B6QtsSES0T9u8GvimpJNJXxjvBA7pwsu+kjST5Wek1sXkiuXf\nJnVD/E3ShaQvxfVJXwCbR8SnAbKjzP8Cp5UcpxguqdrsnH+SEu3xwO+z19dGet/GAJ/NdaOdQUpy\nkySdQ5r98y1S10vRrKcPkgaCrycdTQ8Evkjqdmuf0tyejE6UNAF4OSJaK7fVic+rtIiYLGkcaYzi\nh6T3/xVSF+i+pCP4/5Dep6/x2vvUPuupvcumzJjJr4FPkf5WzyUNhK8ObEGa5fThiHhe0j9JM/n+\nRfpbfjdpPOtyAEkX89r7N5/0938Yxa3q80gTS26W9B3gGdJB2pZ08qCnT2v0aPrr9cFrs55GVVn2\n3mzZCRXlu5Gm5y0gNbdnk75cN62xj9VIU/3+QfoHWEb6UvoFBbNtcuu/B7iV9E/5HOkf+FO55QNI\nrZ15pH/Q3wK7UH3WU1sH+5qarfe9GsuHZXHPyV7HPNKsp0NzdUZQZSZWje3NyupWe3w0q7MJKYkt\nJB3d35/fX25bY0gztZaSppd+Nvuc7qkS25HZ862y9+tRUhfPAtKA/a65dfoBPyF96b3Cqw2wlWeW\nlfm8arwPk0knHlZb9gZSsrwvi/Hp7PcfkFoa7fW2yGJ/IXsd5/PazLv1Kt7zqjPNsr+lU0iTO5aS\nuoSmZmX9szpnAfdkcfyPlDC+mNvGEdnrmZ9t41FSIli34vVOrtj3VqSE/XT2OqcAYyvqnEL1GWi/\nIje7ra8+fGa2WZ1l50jMBG6MiMIT3voqSX8C3hwRWzQ6Fus+dz2ZdZOkC0ittrnAm0hH4euTjqz7\nPElfJrVgHiZdp+xjpG6bzzcyLqsfJwqz7htA6hbZiNQtdhewwkUa+7ilpDPmh/PayWpHR8SlDY3K\n6sZdT2ZmVsjTY83MrJAThZmZFeoTYxQbbrhhjBgxotFhmJmtUqZNm7YwIgZ3VK9PJIoRI0bQ2rrS\neUhmZlZA0uwy9dz1ZGZmhZwozMyskBOFmZkVcqIwM7NCvZooJF2W3RC96rX2lfxY6Qb190vaqTfj\nMzOzlfV2i+JXpNse1vJ+YHT2OAb4aS/EZGZmBXo1UUTE31j5VoJ5+wNXRDIFeGN2ExgzM2uQZhuj\nGMpr93uGdLOYqrd3lHSMpFZJrQsWLOiV4MzMXo+aLVGUFhEXR0RLRLQMHtzhiYVmZtZFzZYo5pDu\nndtuWFZmZmYN0myJYjxweDb7aTfg6YiY1+igzMxez3r1Wk/Zzdr3BDaU1AZ8h3RfZyLiZ6T77u5L\nuo3k86QbrpuZWQP1aqKIiEM6WB7A//VSOGZmVkKzdT2ZmVmTcaIwM7NCThRmZlbIicLMzAo5UZiZ\nWSEnCjMzK+REYWZmhZwozMyskBOFmZkVcqIwM7NCThRmZlbIicLMzAo5UZiZWSEnCjMzK+REYWZm\nhZwozMyskBOFmZkVcqIwM7NCThRmZlbIicLMzAo5UZiZWSEnCjMzK9S/M5UlbQW8ExgE/CoinpS0\nKbAoIp7viQDNzKyxSiUKSasBlwGfAAQEcDPwJHAh8ADwjR6K0czMGqhs19PpwH7AZ4DNSMmi3Z+B\n99U5LjMzaxJlu54+CXwrIi6T1K9i2SPAyPqGZWZmzaJsi2IwML1g+YA6xGJmZk2obKKYDbytxrIW\n4OH6hGNmZs2mbKK4CjhZ0oFAe9dTSNod+DLwqx6IzczMmkDZMYrvAzsBvwOey8puBdYB/gD8qP6h\nmZlZMyiVKCJiOXCApDGkGU5DgEXAxIiY1IPxmZlZg5U9j2II6aS6m0nnT+SXvQHYMCLm90B8ZmbW\nYGXHKOYBO9dY9tZseSmSxkp6SNJMSSdVWT5c0q2S7pF0v6R9y27bzMzqr2yiUMGy/sArpTaSzsH4\nCfB+YBvgEEnbVFT7JnBNRLwVOBi4qGSMZmbWA2p2PUlaG1g3V7ShpDdVVFuTdFmPJ0vubxdgZkQ8\nku3jamB/YEauTuT2ux4wt+S2zcysBxSNUZwIfDv7PYA/1qgn4Lsl9zcUeDz3vA3YtaLOKcBNkr4A\nDAT2KbltMzPrAUWJ4k/AE6REcBHwA+DRijpLgRkRcVcdYzqEdGXac7PzNK6UtF1ErNC9JekY4BiA\n4cOH13H3ZmaWVzNRRMQ0YBqApACui4iF3dzfHGDT3PNhWVneUcDYLIZ/ShoAbAisMKsqIi4GLgZo\naWmJbsZlZmY1lBrMjoif1yFJAEwFRksaKWl10mD1+Io6jwF7A0h6M+k6UgvqsG8zM+uC0jcukrQl\n8ClgK1a+CGBExAc62kZELJd0HDCJdCmQyyLiAUmnAa0RMZ40NnKJpBNIYyNHRoRbDGZmDVL2hLud\ngb+TZjcNBx4CNiCdoT2X1AooJSL+TLqHRb7s27nfZwDvKLs9MzPrWWXPozgTuBEYTRrcPjQiNgY+\nmG3jaz0TnpmZNVrZRLED6Qqx7TOP+sGrrYPvkWZEmZlZH1Q2UawBPJtNUV0MbJRbNgPYvt6BmZlZ\ncyibKB4B2s/KfgA4MrfsUCqmrpqZWd9RdtbTBGAMcDXp3hR/lLQYWA4MAv5fz4RnZmaNVvZ+FN/I\n/T5R0juBjwJrke5JUXkuhJmZ9RGlz6PIi4gpwJQ6x2JmZk2o7BhFTZK2kTSuHsGYmVnzKWxRSBLw\nFtJJdv+NiAdzy95CurrsAcALPRmkmZk1Ts0WhaSNgTuAe4AbgOmSLpfUX9KFWfmHSFeWHdUbwZqZ\nWe8ralGcCexIutfE3cBI4KvAbcDuwG+Br0REW08HaWZmjVOUKMYAp0bEWe0FkqaTLuj3s4g4tqeD\nMzOzxisazB4C/KOi7I7spwevzcxeJ4oSRT/SHezy2p//r2fCMTOzZtPReRTvlZQfqH4D6R4RYyVt\nna8YEb+pd3BmZtZ4HSWK02qUn1HxPAAnCjOzPqgoUby516IwM7OmVTNRRMRDvRmImZk1p25fwsPM\nzPo2JwozMyvkRGFmZoWcKMzMrJAThZmZFep0opA0StKuktbqiYDMzKy5lE4Uko6S1AY8RLoG1NZZ\n+bWSPtdD8ZmZWYOVShSSjgQuBm4BjgCUW3wn8PG6R2ZmZk2hbIviK8D5EXE4K1859kGy1oWZmfU9\nZRPFFsCNNZY9C6xfn3DMzKzZlE0Ui4FNayzbEphXn3DMzKzZlE0UNwLflJRPFiHpjcCXSPfUNjOz\nPqhsojg5qzsD+BPpsuLnZM9XA07tkejMzKzhSiWKiJgP7AT8GBgMzAE2AC4Hdo2IJT0WoZmZNVTp\n8ygi4qmIODkiWiJieES8NSK+3tkkIWmspIckzZR0Uo06B0maIekBSb4hkplZA5U9j+L7lbc+7QpJ\n/YCfAO8HtgEOkbRNRZ3RwNeBd0TEtqQxEDMza5CyLYrjgAcktUr6oqTBXdzfLsDMiHgkIpYBVwP7\nV9T5DPCT9pZK1u1lZmYNUjZRDAEOBxYA5wJzJP0p6yJaoxP7Gwo8nnvelpXlbQlsKekOSVMkje3E\n9s3MrM7KDma/EBG/joj3A8OAk4BNSC2CJyVdUseY+gOjgT2BQ4BLsmm4K5B0TNbCaV2wYEEdd29m\nZnmdvnpsRDwZET+MiJ2BvUlnZn+65OpzWPHEvWFZWV4bMD4iXoqIR4H/kBJHZRwXZwPrLYMHd7Un\nzMzMOtKVy4yvIenjkv4ITAQ2ovblPSpNBUZLGilpdeBgYHxFnetJrQkkbUjqinqks3GamVl9dOYy\n43tKuhR4knRhwI2AE4E3RcR+ZbYREctJA+OTSBcTvCYiHpB0mqT2bUwCFkmaAdwKfCUiFpV+RWZm\nVleKiI4rSY/x2kD0VcCVEfFQD8dWWktLS7S2tjY6DDOzVYqkaRHR0lG9/iW3dxMpOdzWvbDMzGxV\nUypRRMTRPR2ImZk1p5qJQtIuwPSIeD77vVBE3FXXyMzMrCkUtSimALsBd2W/1xrMULasX31DMzOz\nZlCUKN5PmpkEsC+1E4WZmfVhNRNFREzK/T6xd8IxM7NmU/bqsTMkvaXGsm2ycx7MzKwPKnvC3dbA\nmjWWrQVsVZ9wzMys2XTmEh61xii2B56uQyxmZtaEiqbHfgH4QvY0gGslLa2otibwJuDangnPzMwa\nrWjW01xgWvb7KOAhoPKaS0uBGcBP6x+amZk1g6JZT9cB1wFIAjg5InwVVzOz15myl/A4pKcDMTOz\n5lQ0RvFV4IqIeCL7vUhExNn1Dc3MzJpBUYviTGAy8ET2e5EAnCjMzPqgokSxZkS0z3KqdQ6FmZn1\ncUWD2Uur/W5mZq8vZS/hsbmkHXPP15D0HUm/k+R7VZiZ9WFl73B3Eel8iXuz56cDJwD/AQ6Q9IaI\nuLgH4jMzswYrewmPHYG/ASidVHEk8I2I2JY00P35HonOzMwarmyieCOwMPt9R2AQcE32/GZgizrH\nZWZmTaJsopgPbJ79PgZ4NCJmZ88HAi/XOzAzM2sOZcco/gR8V9KWwDHAZbll2wKP1jswMzNrDmUT\nxUnAOsDHgb8AZ+SWHQTcUue4zMysSZS91tMzwGE1lr2trhGZmVlTKduiAEDSOsAuwAbAYuCuiHi2\nJwIzM7PmUDpRSPomqQtqTUBZ8fOSvh8R3+2J4MzMrPFKJQpJ/wecBvwauIp0ocCNgUOB0yQtjgjf\nvMjMrA8q26I4DrgoIo7Lld0HTJL0NOmWqU4UZmZ9UNnzKDYHbqix7AZeO8fCzMz6mLKJYjGwVY1l\nW2XLzcysDyqbKK4nnXD3sexaTwBIOoB0gcDreyI4MzNrvM6ccLcT8FtgqaT5wGBgDWBqttzMzPqg\nUi2KiHgaeDvpLOyLSVeSvQT4GPCO7IS8UiSNlfSQpJmSaiYYSQdKCkktZbdtZmb1V/o8ioh4Gbg2\ne3SJpH7AT0gXFmwDpkoaHxEzKuqtAxwP3NnVfZmZWX0UtigkHSxpiqSFWQvgu5I6dTZ3hV2AmRHx\nSEQsA64G9q9S73TgLODFbuzLzMzqoGaikPQx4DekE+vuAJ4njUWcUWudEoYCj+eet2Vl+f3uBGwa\nETcWbUjSMZJaJbUuWLCgGyGZmVmRohbFl4EbgdERsX9EbE86yv+CpLKzpTol2+4PgRM7qhsRF0dE\nS0S0DB48uCfCMTMzihPFVsBPI+KlXNmPSdd62qyL+5sDbJp7Piwra7cOsB0wWdIsYDdgvAe0zcwa\npyhR5G9/2q69j2f9Lu5vKjBa0khJqwMHA+PbF0bE0xGxYUSMiIgRwBRgv4ho7eL+zMysmzrqQopO\nlhdvLGI56bpRk4AHgWsi4gFJp0naryvbNDOznqWI6t/5kl4BlldZ1L9KeUTEGnWOrbSWlpZobXWj\nw8ysMyRNi4gOu/aLprqeVcd4zMxsFVUzUUTE13szEDMza049Ms3VzMz6DicKMzMr5ERhZmaFnCjM\nzKyQE4WZmRVyojAzs0KlE4WkjSR9T9LtkmZI2iYrP9bXYjIz67tKJQpJWwP/Aj5Putz4VsCAbPFW\nwJd6JDozM2u4si2Kc4BHgZHAvoByy+4Adq9zXGZm1iTK3q3u3cChEfFUdjvTvCeATeoblpmZNYvO\nDGa/XKN8EPBCHWIxM7MmVDZRtAKH1Vh2IOm+EWZm1geV7Xr6LjBR0h+BX5PuR/EuSZ8FDgL26qH4\nzMyswUq1KCLiL6SEsAPwG9Jg9g+BDwAHRcQdPRahmZk1VNkWBRHxe0l/ALYFhgCLgH9FxCs9FZyZ\nmTVe6UQB6TZ2wPQeisXMzJpQqUQh6aCO6kTENd0Px8zMmk3ZFsXVNcrzN9x2ojAz64PKJoo3Vykb\nBHwQ+ChwRN0iMjOzplIqUUTEQzUW/UPSy6RrQP2zblGZmVnTqMdlxm8F9qvDdszMrAnVI1G0kK4o\na2ZmfVDZWU9frVK8OrAdcABwST2DMjOz5lF2MPvMKmUvA3OA84BT6xaRmZk1lbKJYs0qZS/5rGwz\ns76vwzEKSasDpwDbRcTS3MNJwszsdaDDRBERy4DjgYE9H46ZmTWbsrOe7gO26clAzMysOZVNFF8F\nviZpn54MxszMmk/ZwezLgDcCkyQ9T7pPdv46TxERW9U7ODMza7yyiWIaKyaGLpM0Fjgf6Af8IiLO\nrFj+ZeBoYDmwAPh0RMyux77NzKzzyl7r6eB67ExSP+AnwBigDZgqaXxEzMhVuwdoiYjnJX0e+AHw\n8Xrs38zMOq/mGIWkRyTtUOf97QLMjIhHstlUVwP75ytExK0R0X5JkCnAsDrHYGZmnVA0mD0CWKPO\n+xsKPJ573paV1XIUMKHaAknHSGqV1LpgwYI6hmhmZnn1uChgj5B0KOmCg2dXWx4RF0dES0S0DB48\nuHeDMzN7HelojKIuA9g5c4BNc8+HZWUryKbhngy8OyKW1jkGMzPrhI4SxamSFpbYTkREmbvcTQVG\nSxpJShAHA5/IV5D0VuDnwNiImF9im2Zm1oM6ShQ7AmWO6Eu1PCJiuaTjgEmk6bGXRcQDkk4DWiNi\nPKmraW3gd5IAHosI3xjJzKxBOkoUH46Iu+q5w4j4M/DnirJv53732d9mZk2kaQezzcysOThRmJlZ\nIScKMzMrVHOMIiKcRMzMzC0KMzMr5kRhZmaFnCjMzKyQE4WZmRVyojAzs0JOFGZmVsiJwszMCjlR\nmJlZIScKMzMr5ERhZmaFOrrMuJlZl7z00ku0tbXx4osvNjqU170BAwYwbNgwVltttS6t70RhZj2i\nra2NddZZhxEjRpDdhMwaICJYtGgRbW1tjBw5skvbcNeTmfWIF198kUGDBjlJNJgkBg0a1K2WnROF\nmfUYJ4nm0N3PwYnCzMwKOVGYWZ92/fXXI4l///vfr5ZNnjyZD37wgyvUO/LII7n22muBNBB/0kkn\nMXr0aHbaaSd23313JkyY0K04Fi1axF577cXaa6/NcccdV7Pe4sWLGTNmDKNHj2bMmDEsWbIESGMN\nX/ziFxk1ahTbb789d99996vrXH755YwePZrRo0dz+eWXdyvOapwozKxPGzduHHvssQfjxo0rvc63\nvvUt5s2bx/Tp07n77ru5/vrrefbZZ7sVx4ABAzj99NM555xzCuudeeaZ7L333jz88MPsvffenHnm\nmQBMmDCBhx9+mIcffpiLL76Yz3/+80BKLKeeeip33nknd911F6eeeuqryaVenCjMrM967rnnuP32\n27n00ku5+uqrS63z/PPPc8kll3DBBRewxhprALDRRhtx0EEHdSuWgQMHssceezBgwIDCejfccANH\nHHEEAEcccQTXX3/9q+WHH344kthtt9146qmnmDdvHpMmTWLMmDFssMEGrL/++owZM4aJEyd2K9ZK\nnh5rZj1v2pdgyb313eb6O8LOPyqscsMNNzB27Fi23HJLBg0axLRp09h5550L15k5cybDhw9n3XXX\n7TCEE044gVtvvXWl8oMPPpiTTjqpw/WrefLJJ9lkk00A2HjjjXnyyScBmDNnDptuuumr9YYNG8ac\nOXNqlteTE4WZ9Vnjxo3j+OOPB9KX97hx49h5551rzgLq7Oyg8847r9sxFpHUFDPHnCjMrOd1cOTf\nExYvXswtt9zCv/71LyTx8ssvI4mzzz6bQYMGrdSPv3jxYjbccENGjRrFY489xjPPPNNhq6InWhQb\nbbQR8+bNY5NNNmHevHkMGTIEgKFDh/L444+/Wq+trY2hQ4cydOhQJk+evEL5nnvu2aV91+IxCjPr\nk6699loOO+wwZs+ezaxZs3j88ccZOXIkf//73xk9ejRz587lwQcfBGD27Nncd9997Ljjjqy11loc\nddRRHH/88SxbtgyABQsW8Lvf/W6lfZx33nnce++9Kz26miQA9ttvv1dnLl1++eXsv//+r5ZfccUV\nRARTpkxhvfXWY5NNNuF973sfN910E0uWLGHJkiXcdNNNvO997+vy/quKiFX+sfPOO4eZNZcZM2Y0\ndP977rmouX63AAAK+klEQVRnTJgwYYWy888/Pz73uc9FRMTtt98eu+66a+ywww7R0tISN91006v1\nli5dGl/5yldiiy22iG233TZ22WWXmDhxYrdj2myzzWL99dePgQMHxtChQ+OBBx6IiIijjjoqpk6d\nGhERCxcujPe85z0xatSo2HvvvWPRokUREfHKK6/EscceG5tvvnlst912r9aPiLj00ktjiy22iC22\n2CIuu+yyqvuu9nkArVHiO1ap7qqtpaUlWltbGx2GmeU8+OCDvPnNb250GJap9nlImhYRLR2t664n\nMzMr5ERhZmaFnCjMrMf0ha7tvqC7n4MThZn1iAEDBrBo0SIniwaL7H4UHZ0RXqTXz6OQNBY4H+gH\n/CIizqxYvgZwBbAzsAj4eETM6u04zax7hg0bRltbGwsWLGh0KK977Xe466peTRSS+gE/AcYAbcBU\nSeMjYkau2lHAkogYJelg4Czg470Zp5l132qrrdblO6pZc+ntrqddgJkR8UhELAOuBvavqLM/0H6d\n3GuBvdUM57Cbmb1O9XaiGAo8nnvelpVVrRMRy4GngUGVG5J0jKRWSa1u2pqZ9ZxVdjA7Ii6OiJaI\naBk8eHCjwzEz67N6ezB7DrBp7vmwrKxanTZJ/YH1SIPaNU2bNm2hpNn1DNSsjjYEFjY6CLMqNitT\nqbcTxVRgtKSRpIRwMPCJijrjgSOAfwIfBW6JDubXRYSbFNa0JLWWuUyCWbPq1UQREcslHQdMIk2P\nvSwiHpB0GuniVOOBS4ErJc0EFpOSiZmZNUifuCigWTNzi8JWdavsYLbZKuTiRgdg1h1uUZiZWSG3\nKMzMrJAThZmZFXKiMDOzQr1+9Viz1zNJA4GLgGXA5Ij4dYNDMuuQWxRm3STpMknzJU2vKB8r6SFJ\nMyWdlBV/BLg2Ij4D7NfrwZp1gROFWff9ChibL8hdUv/9wDbAIZK2IV22pv3CmC/3YoxmXeZEYdZN\nEfE30lUE8mpdUr+NlCzA/3+2ivAfqlnPqHVJ/d8DB0r6KfDHRgRm1lkezDbrRRHxP+BTjY7DrDPc\nojDrGWUuqW+2SnCiMOsZr15SX9LqpKsgj29wTGZd4kRh1k2SxpHun7KVpDZJR2W38W2/pP6DwDUR\n8UAj4zTrKl8U0MzMCrlFYWZmhZwozMyskBOFmZkVcqIwM7NCThRmZlbIicLMzAo5UViXSDpSUtR4\n7NPJbR2drTes49rdJ+mMiniXSLpT0sE9sK/+2T6+mSv7iKQvVam7T1Z3j3rHURDfqIr34mVJ8yRd\nKWloF7e5k6RTJL2x3vFaY/haT9ZdHyNd8C5vRiMC6YLds5+DgM8C4yStHhFX1GsHEbFc0u6seIHA\njwB7AD+qqH5XFlMjTsw7A7gRWCOL4dvA1pJ2z04e7IydgO+QLr/+VD2DtMZworDuujciZjY6iK6I\niCntv0u6CXgI+BJQt0RRuZ8O6j0DlKrbA/6bi/M2SWsApwA7Aq0NismahLuerMdIWlPS+ZIekPS/\nrEtjvKStSqx7mKR7s/WelnS/pKMr6uwl6RZJz2WPCdnNgTotIl4C7gVG5ba/nqSLsriXZXerO74i\nhnUlXSjpcUlLJT0p6WZJW2bLV+h6knQV8Elgs1x3z8xs2QpdT5J+LmludhOk/D4HZO/JubmyIbn6\nyyQ9KOmorrwXmbuzn8Mr9n2GpHskPSNpoaS/Stolt/xo4JLs6aO51zgs936cnL2XSyXNkXR2lpis\nSblFYd3VT1L+7ygiov3ObWtmj9OAJ0hdPP8H/FPS1hExv9oGJe0JXE7qmjkR6Ee6S9z6uTr7k+7t\ncAPwCdJBz0nA3yVtHxFduVLrSLKukuzLeQKwPfAtUnfQfsCPJA2KiG9n65xPurvdycDM7DW+E1iv\nxj6+A2wI7AAckJW9WKPulcAxwN7ATbny/YF1yVo+2VjAHcBqpC6jWcC+wCVZV9pPS736FY3Ifv63\novxNwLmk7sa1gSNI7/lbI2IG6fPYHPg6qYttXrZe+2c9jnTXvzNJradtSX8fw4GPdyFO6w0R4Ycf\nnX4ARwJR5XF7wTr9gIHA88AXcuVHZ+sOy56fBMwv2I5IX4aTKsrfSLrT3DkdxH5Gtr/+2WMj4PSs\n7Jyszoez54dWrPsr0hf7BtnzfwM/KNhX/2w738yVXQXMqlJ3n6zuHrnX+QhwZUW9PwH3556fCrwA\nbFFR75fAk0C/gvhGZfv8dBbrQFJimgtc3cH72I+UnP4LnFvl8xxRUX+vrPwTFeVHZOXbNfrv2o/q\nD3c9WXcdALwt91ihu0PSwZLukvQ0sBx4jtTKKOp+mgoMlnSFpA9Iqjw63xrYDPh11pXRP2vVPAfc\nCbyrZOwvZY8ngK8APyS1DMi2sZx0C9O8q0gDvrvmYj1K0kmSdpZUt/+pSN+iVwIHSBoIqYsJeF9W\n3m4s8A9gdsX7MQkYQvF73e5S0nvxHPAXUovhiMpKkt4rabKkRaT3ZxmpBVFmH2NJSfYPFXG2t5bK\nfm7Wy5worLumR0Rr7vFQ+wJJB5C6GqYDh5C+XN9GOuofUGuDEfFXUjfECOB6YKGkmyRtl1UZkv28\nnNe+7NsfY0ndP2W0J7dRwDoRcWJELM2WbQAsjJVn/DyRWw5wLKlP/jOkQd/5ks6VtGbJGDpyFeko\n/yPZ84NJ/7e/ztUZAryHld+LcdnyMu/HqaT3Yk/gp9nvF+QrZGMRNwJPk1ogu2X1plPweVbEOYDU\noszHObcTcVoDeIzCetLBwL8j4tPtBZIGkLqICkXENcA1ktYmfQmeBUyQNBxYlFX7KnBrldWXVimr\nto+i2TyLgQ0l9a9IFhvnlhMRz5K6yk6SNII0Xfj7pCPnk+mmiHhY0hTgUFIr4lDgrxExN1dtEWn6\n7ZdrbOahGuV5s3Lvx22S1gWOlvSziGgf2D6Q9LoOzL8nkjYgdXF1ZBHwP1IyqmZujXJrMCcK60lr\nkbon8g6nEy3ZiHgOGC9pFGkQdX3SeRqPA9tExNl1irXSbcAJpC/H3+bKP0n6slxpGmtEzALOlnQY\nsF3l8pylpO63sq4ALpC0F+kI/vCK5RNJ54HMioiFndhuka+RXvt3SIPn8Nrn+epNbCS9lzTA/WBu\n3fZEXfkaJ5ImJwyMiNvqFKf1AicK60kTgQslnUOaQfQ20l3fnilaSdJ3Sd0Qt5JmzQzP1muNiMVZ\nneOA32ctlN+RjlY3Bt4OPBIR53cz9j+R7lp3iaSNSV+EHyQN4p8eEUuyOO4kzb6aTjpa3os0k+fn\nBdueAXxa0jHAPcALETG9oP5vSTPArsz28fuK5eeQWjJ/l3Qe8B9gHdJYztsj4gA6KSLmSPoZcLyk\nHSLiPtLneRzwS0mXZ9v/Jiu3BNpPuDwumw78EnBfRPxF0u9IYxQ/JJ1gCKmLcV/gxIionGVlzaDR\no+l+rJoPXpv1NKqgTj/ge6QvkudJX/w7kAZKf5GrVznraT/SAOc80tHp46RxgI0rtv8OUp/5EtJR\n/qOkfvndOoj9DLKx4g7qrQdclMWxjNSFc3xFnXNIX/ZPkwaC7weOyy2vNutpHdKX/5Js2cysfIVZ\nTxX7+UO27IoasW5Amqo7K4t1PvA3crPLaqzXPuvpyCrLhmSv6bpc2ZeyfbxA+qLfC7gd+EvFuqdl\nn/vLFZ9tP1JL7f7sM3uKdP7KWcC6jf679qP6w7dCNTOzQp71ZGZmhZwozMyskBOFmZkVcqIwM7NC\nThRmZlbIicLMzAo5UZiZWSEnCjMzK+REYWZmhf4/01epZRS8x+0AAAAASUVORK5CYII=\n",
      "text/plain": [
       "<matplotlib.figure.Figure at 0x7fcf38c1fc88>"
      ]
     },
     "metadata": {},
     "output_type": "display_data"
    }
   ],
=======
   "execution_count": null,
   "metadata": {
    "collapsed": true
   },
   "outputs": [],
>>>>>>> 88b1abc6275f56d9fc1363a4bfa8974e0e0b308d
   "source": [
    "from sklearn import metrics\n",
    "clf = linear_model.LogisticRegression(C=1e7)\n",
    "clf.fit(X_clf, y_clf)\n",
    "y_prob_logreg = clf.predict_proba(X_clf)\n",
    "fpr_logreg, tpr_logreg, thresholds = metrics.roc_curve(y_clf, y_prob_logreg[:, list(clf.classes_).index(1)])\n",
    "auc_logreg = metrics.auc(fpr_logreg, tpr_logreg)\n",
    "\n",
    "plt.semilogx(fpr_logreg, tpr_logreg, '-', color='orange', \n",
    "             label='AUC = %0.3f' % auc_logreg)\n",
    "\n",
    "print(y_prob_logreg)\n",
    "print(fpr_logreg)\n",
    "print(tpr_logreg)\n",
    "\n",
    "plt.xlabel('False Positive Rate', fontsize=16)\n",
    "plt.ylabel('True Positive Rate', fontsize=16)\n",
    "plt.title('ROC curve: Logistic regression', fontsize=16)\n",
    "plt.legend(loc=\"lower right\")"
   ]
  },
  {
   "cell_type": "markdown",
   "metadata": {},
   "source": [
    "### Data scaling\n",
    "See [preprocessing.StandardScaler](http://scikit-learn.org/stable/modules/generated/sklearn.preprocessing.StandardScaler.html)"
   ]
  },
  {
   "cell_type": "markdown",
   "metadata": {},
   "source": [
    "**Question** Scale the data, and compute the cross-validated predictions of the logistic regression on the scaled data."
   ]
  },
  {
   "cell_type": "code",
<<<<<<< HEAD
   "execution_count": 71,
   "metadata": {},
   "outputs": [
    {
     "ename": "TypeError",
     "evalue": "Expected sequence or array-like, got <class 'int'>",
     "output_type": "error",
     "traceback": [
      "\u001b[0;31m---------------------------------------------------------------------------\u001b[0m",
      "\u001b[0;31mTypeError\u001b[0m                                 Traceback (most recent call last)",
      "\u001b[0;32m<ipython-input-71-05d0e75871c4>\u001b[0m in \u001b[0;36m<module>\u001b[0;34m()\u001b[0m\n\u001b[1;32m     15\u001b[0m \u001b[0mypred_logreg_scaled\u001b[0m \u001b[0;34m=\u001b[0m \u001b[0mcross_validate_regr\u001b[0m\u001b[0;34m(\u001b[0m\u001b[0mX_clf_scaled\u001b[0m\u001b[0;34m,\u001b[0m \u001b[0my_clf\u001b[0m\u001b[0;34m,\u001b[0m \u001b[0mclf\u001b[0m\u001b[0;34m,\u001b[0m \u001b[0mfolds_clf\u001b[0m\u001b[0;34m)\u001b[0m\u001b[0;34m\u001b[0m\u001b[0m\n\u001b[1;32m     16\u001b[0m \u001b[0;34m\u001b[0m\u001b[0m\n\u001b[0;32m---> 17\u001b[0;31m \u001b[0mprint\u001b[0m\u001b[0;34m(\u001b[0m\u001b[0;34m\"Accuracy: %.3f\"\u001b[0m \u001b[0;34m%\u001b[0m \u001b[0mmetrics\u001b[0m\u001b[0;34m.\u001b[0m\u001b[0maccuracy_score\u001b[0m\u001b[0;34m(\u001b[0m\u001b[0mypred_logreg_scaled\u001b[0m \u001b[0;34m>\u001b[0m \u001b[0;36m0.5\u001b[0m\u001b[0;34m,\u001b[0m \u001b[0;36m1\u001b[0m\u001b[0;34m,\u001b[0m \u001b[0;36m0\u001b[0m\u001b[0;34m)\u001b[0m\u001b[0;34m)\u001b[0m\u001b[0;34m\u001b[0m\u001b[0m\n\u001b[0m",
      "\u001b[0;32m~/.local/lib/python3.5/site-packages/sklearn/metrics/classification.py\u001b[0m in \u001b[0;36maccuracy_score\u001b[0;34m(y_true, y_pred, normalize, sample_weight)\u001b[0m\n\u001b[1;32m    174\u001b[0m \u001b[0;34m\u001b[0m\u001b[0m\n\u001b[1;32m    175\u001b[0m     \u001b[0;31m# Compute accuracy for each possible representation\u001b[0m\u001b[0;34m\u001b[0m\u001b[0;34m\u001b[0m\u001b[0m\n\u001b[0;32m--> 176\u001b[0;31m     \u001b[0my_type\u001b[0m\u001b[0;34m,\u001b[0m \u001b[0my_true\u001b[0m\u001b[0;34m,\u001b[0m \u001b[0my_pred\u001b[0m \u001b[0;34m=\u001b[0m \u001b[0m_check_targets\u001b[0m\u001b[0;34m(\u001b[0m\u001b[0my_true\u001b[0m\u001b[0;34m,\u001b[0m \u001b[0my_pred\u001b[0m\u001b[0;34m)\u001b[0m\u001b[0;34m\u001b[0m\u001b[0m\n\u001b[0m\u001b[1;32m    177\u001b[0m     \u001b[0;32mif\u001b[0m \u001b[0my_type\u001b[0m\u001b[0;34m.\u001b[0m\u001b[0mstartswith\u001b[0m\u001b[0;34m(\u001b[0m\u001b[0;34m'multilabel'\u001b[0m\u001b[0;34m)\u001b[0m\u001b[0;34m:\u001b[0m\u001b[0;34m\u001b[0m\u001b[0m\n\u001b[1;32m    178\u001b[0m         \u001b[0mdiffering_labels\u001b[0m \u001b[0;34m=\u001b[0m \u001b[0mcount_nonzero\u001b[0m\u001b[0;34m(\u001b[0m\u001b[0my_true\u001b[0m \u001b[0;34m-\u001b[0m \u001b[0my_pred\u001b[0m\u001b[0;34m,\u001b[0m \u001b[0maxis\u001b[0m\u001b[0;34m=\u001b[0m\u001b[0;36m1\u001b[0m\u001b[0;34m)\u001b[0m\u001b[0;34m\u001b[0m\u001b[0m\n",
      "\u001b[0;32m~/.local/lib/python3.5/site-packages/sklearn/metrics/classification.py\u001b[0m in \u001b[0;36m_check_targets\u001b[0;34m(y_true, y_pred)\u001b[0m\n\u001b[1;32m     69\u001b[0m     \u001b[0my_pred\u001b[0m \u001b[0;34m:\u001b[0m \u001b[0marray\u001b[0m \u001b[0;32mor\u001b[0m \u001b[0mindicator\u001b[0m \u001b[0mmatrix\u001b[0m\u001b[0;34m\u001b[0m\u001b[0m\n\u001b[1;32m     70\u001b[0m     \"\"\"\n\u001b[0;32m---> 71\u001b[0;31m     \u001b[0mcheck_consistent_length\u001b[0m\u001b[0;34m(\u001b[0m\u001b[0my_true\u001b[0m\u001b[0;34m,\u001b[0m \u001b[0my_pred\u001b[0m\u001b[0;34m)\u001b[0m\u001b[0;34m\u001b[0m\u001b[0m\n\u001b[0m\u001b[1;32m     72\u001b[0m     \u001b[0mtype_true\u001b[0m \u001b[0;34m=\u001b[0m \u001b[0mtype_of_target\u001b[0m\u001b[0;34m(\u001b[0m\u001b[0my_true\u001b[0m\u001b[0;34m)\u001b[0m\u001b[0;34m\u001b[0m\u001b[0m\n\u001b[1;32m     73\u001b[0m     \u001b[0mtype_pred\u001b[0m \u001b[0;34m=\u001b[0m \u001b[0mtype_of_target\u001b[0m\u001b[0;34m(\u001b[0m\u001b[0my_pred\u001b[0m\u001b[0;34m)\u001b[0m\u001b[0;34m\u001b[0m\u001b[0m\n",
      "\u001b[0;32m~/.local/lib/python3.5/site-packages/sklearn/utils/validation.py\u001b[0m in \u001b[0;36mcheck_consistent_length\u001b[0;34m(*arrays)\u001b[0m\n\u001b[1;32m    167\u001b[0m     \"\"\"\n\u001b[1;32m    168\u001b[0m \u001b[0;34m\u001b[0m\u001b[0m\n\u001b[0;32m--> 169\u001b[0;31m     \u001b[0mlengths\u001b[0m \u001b[0;34m=\u001b[0m \u001b[0;34m[\u001b[0m\u001b[0m_num_samples\u001b[0m\u001b[0;34m(\u001b[0m\u001b[0mX\u001b[0m\u001b[0;34m)\u001b[0m \u001b[0;32mfor\u001b[0m \u001b[0mX\u001b[0m \u001b[0;32min\u001b[0m \u001b[0marrays\u001b[0m \u001b[0;32mif\u001b[0m \u001b[0mX\u001b[0m \u001b[0;32mis\u001b[0m \u001b[0;32mnot\u001b[0m \u001b[0;32mNone\u001b[0m\u001b[0;34m]\u001b[0m\u001b[0;34m\u001b[0m\u001b[0m\n\u001b[0m\u001b[1;32m    170\u001b[0m     \u001b[0muniques\u001b[0m \u001b[0;34m=\u001b[0m \u001b[0mnp\u001b[0m\u001b[0;34m.\u001b[0m\u001b[0munique\u001b[0m\u001b[0;34m(\u001b[0m\u001b[0mlengths\u001b[0m\u001b[0;34m)\u001b[0m\u001b[0;34m\u001b[0m\u001b[0m\n\u001b[1;32m    171\u001b[0m     \u001b[0;32mif\u001b[0m \u001b[0mlen\u001b[0m\u001b[0;34m(\u001b[0m\u001b[0muniques\u001b[0m\u001b[0;34m)\u001b[0m \u001b[0;34m>\u001b[0m \u001b[0;36m1\u001b[0m\u001b[0;34m:\u001b[0m\u001b[0;34m\u001b[0m\u001b[0m\n",
      "\u001b[0;32m~/.local/lib/python3.5/site-packages/sklearn/utils/validation.py\u001b[0m in \u001b[0;36m<listcomp>\u001b[0;34m(.0)\u001b[0m\n\u001b[1;32m    167\u001b[0m     \"\"\"\n\u001b[1;32m    168\u001b[0m \u001b[0;34m\u001b[0m\u001b[0m\n\u001b[0;32m--> 169\u001b[0;31m     \u001b[0mlengths\u001b[0m \u001b[0;34m=\u001b[0m \u001b[0;34m[\u001b[0m\u001b[0m_num_samples\u001b[0m\u001b[0;34m(\u001b[0m\u001b[0mX\u001b[0m\u001b[0;34m)\u001b[0m \u001b[0;32mfor\u001b[0m \u001b[0mX\u001b[0m \u001b[0;32min\u001b[0m \u001b[0marrays\u001b[0m \u001b[0;32mif\u001b[0m \u001b[0mX\u001b[0m \u001b[0;32mis\u001b[0m \u001b[0;32mnot\u001b[0m \u001b[0;32mNone\u001b[0m\u001b[0;34m]\u001b[0m\u001b[0;34m\u001b[0m\u001b[0m\n\u001b[0m\u001b[1;32m    170\u001b[0m     \u001b[0muniques\u001b[0m \u001b[0;34m=\u001b[0m \u001b[0mnp\u001b[0m\u001b[0;34m.\u001b[0m\u001b[0munique\u001b[0m\u001b[0;34m(\u001b[0m\u001b[0mlengths\u001b[0m\u001b[0;34m)\u001b[0m\u001b[0;34m\u001b[0m\u001b[0m\n\u001b[1;32m    171\u001b[0m     \u001b[0;32mif\u001b[0m \u001b[0mlen\u001b[0m\u001b[0;34m(\u001b[0m\u001b[0muniques\u001b[0m\u001b[0;34m)\u001b[0m \u001b[0;34m>\u001b[0m \u001b[0;36m1\u001b[0m\u001b[0;34m:\u001b[0m\u001b[0;34m\u001b[0m\u001b[0m\n",
      "\u001b[0;32m~/.local/lib/python3.5/site-packages/sklearn/utils/validation.py\u001b[0m in \u001b[0;36m_num_samples\u001b[0;34m(x)\u001b[0m\n\u001b[1;32m    112\u001b[0m         \u001b[0;32melse\u001b[0m\u001b[0;34m:\u001b[0m\u001b[0;34m\u001b[0m\u001b[0m\n\u001b[1;32m    113\u001b[0m             raise TypeError(\"Expected sequence or array-like, got %s\" %\n\u001b[0;32m--> 114\u001b[0;31m                             type(x))\n\u001b[0m\u001b[1;32m    115\u001b[0m     \u001b[0;32mif\u001b[0m \u001b[0mhasattr\u001b[0m\u001b[0;34m(\u001b[0m\u001b[0mx\u001b[0m\u001b[0;34m,\u001b[0m \u001b[0;34m'shape'\u001b[0m\u001b[0;34m)\u001b[0m\u001b[0;34m:\u001b[0m\u001b[0;34m\u001b[0m\u001b[0m\n\u001b[1;32m    116\u001b[0m         \u001b[0;32mif\u001b[0m \u001b[0mlen\u001b[0m\u001b[0;34m(\u001b[0m\u001b[0mx\u001b[0m\u001b[0;34m.\u001b[0m\u001b[0mshape\u001b[0m\u001b[0;34m)\u001b[0m \u001b[0;34m==\u001b[0m \u001b[0;36m0\u001b[0m\u001b[0;34m:\u001b[0m\u001b[0;34m\u001b[0m\u001b[0m\n",
      "\u001b[0;31mTypeError\u001b[0m: Expected sequence or array-like, got <class 'int'>"
     ]
    }
   ],
=======
   "execution_count": null,
   "metadata": {
    "collapsed": true
   },
   "outputs": [],
>>>>>>> 88b1abc6275f56d9fc1363a4bfa8974e0e0b308d
   "source": [
    "from sklearn import preprocessing\n",
    "\n",
    "# Scale the data with preprocessing.StandardScaler\n",
    "# Initialize a scaler\n",
    "scaler = preprocessing.StandardScaler()\n",
    "# Scale your design matrix\n",
    "scaler.fit(X_clf)\n",
    "X_clf_scaled = scaler.transform(X_clf)\n",
    "\n",
    "# Initialize a LogisticRegression model. \n",
    "# Use C=1e7 to ensure there is no regularization (we'll talk about regularization next time!)\n",
    "clf = linear_model.LogisticRegression(C=1e7)\n",
    "\n",
    "# Cross-validate it for the scaled data\n",
    "ypred_logreg_scaled = cross_validate_regr(X_clf_scaled, y_clf, clf, folds_clf)\n",
    "\n",
    "print(\"Accuracy: %.3f\" % metrics.accuracy_score(ypred_logreg_scaled > 0.5, 1, 0))"
   ]
  },
  {
   "cell_type": "markdown",
   "metadata": {},
   "source": [
    "**Question** Plot the two ROC curves (one for the logistic regression on the original data, one for the logistic regression on the scaled data) on the same plot."
   ]
  },
  {
   "cell_type": "code",
   "execution_count": null,
   "metadata": {
    "collapsed": true
   },
   "outputs": [],
   "source": [
    "fpr_logreg_scaled, tpr_logreg_scaled, thresholds = # TODO\n",
    "auc_logreg_scaled = # TODO\n",
    "\n",
    "plt.semilogx(fpr_logreg_scaled, tpr_logreg_scaled, '-', color='blue', \n",
    "             label='scaled data; AUC = %0.3f' % auc_logreg_scaled)\n",
    "plt.semilogx(fpr_logreg, tpr_logreg, '-', color='orange', \n",
    "             label='original data; AUC = %0.3f' % auc_logreg)\n",
    "\n",
    "plt.xlabel('False Positive Rate', fontsize=16)\n",
    "plt.ylabel('True Positive Rate', fontsize=16)\n",
    "plt.title('ROC curve: Logistic regression', fontsize=16)\n",
    "plt.legend(loc=\"lower right\")"
   ]
  },
  {
   "cell_type": "markdown",
   "metadata": {},
   "source": [
    "In a cross-validation setting, we ignore the samples from the test fold when training the classifier. This also means that scaling should be done on the training data only. \n",
    "\n",
    "In scikit-learn, we can use a scaler to make centering and scaling happen independently on each feature by computing the relevant statistics on the samples *in the training set*. \n",
    "The mean and standard deviation will be stored to be used on the test data.\n",
    "\n",
    "**Question** Rewrite the cross_validate method to include a scaling step."
   ]
  },
  {
   "cell_type": "code",
   "execution_count": null,
   "metadata": {},
   "outputs": [],
   "source": [
    "def cross_validate_clf_with_scaling(design_matrix, labels, classifier, cv_folds):\n",
    "    \"\"\" Perform a cross-validation and returns the predictions.\n",
    "    \n",
    "    Parameters:\n",
    "    -----------\n",
    "    design_matrix: (n_samples, n_features) np.array\n",
    "        Design matrix for the experiment.\n",
    "    labels: (n_samples, ) np.array\n",
    "        Vector of labels.\n",
    "    classifier:  sklearn classifier object\n",
    "        Classifier instance; must have the following methods:\n",
    "        - fit(X, y) to train the classifier on the data X, y\n",
    "        - predict_proba(X) to apply the trained classifier to the data X and return probability estimates \n",
    "    cv_folds: sklearn cross-validation object\n",
    "        Cross-validation iterator.\n",
    "        \n",
    "    Return:\n",
    "    -------\n",
    "    pred: (n_samples, ) np.array\n",
    "        Vectors of predictions (same order as labels).\n",
    "    \"\"\"\n",
    "    pred = np.zeros(labels.shape)\n",
    "    for tr, te in cv_folds:\n",
    "        # TODO\n",
    "    return pred"
   ]
  },
  {
   "cell_type": "markdown",
   "metadata": {},
   "source": [
    "**Question** Now use the cross_validate_with_scaling method to cross-validate the logistic regression on our data."
   ]
  },
  {
   "cell_type": "code",
   "execution_count": null,
   "metadata": {
    "collapsed": true
   },
   "outputs": [],
   "source": [
    "clf = linear_model.LogisticRegression(C=1e6) \n",
    "ypred_logreg_scaled_ = cross_validate_clf_with_scaling(X_clf, y_clf, clf, folds_clf)\n",
    "print(metrics.accuracy_score(y_clf,np.where(ypred_logreg_scaled_ > 0.5, 1, 0)))"
   ]
  },
  {
   "cell_type": "markdown",
   "metadata": {},
   "source": [
    "**Question** Again, compare the AUROC and ROC curves with those obtained previously. What do you conclude?"
   ]
  },
  {
   "cell_type": "code",
   "execution_count": null,
   "metadata": {
    "collapsed": true
   },
   "outputs": [],
   "source": [
    "fpr_logreg_scaled_, tpr_logreg_scaled_, thresholds = # TODO\n",
    "auc_logreg_scaled_ = # TODO\n",
    "\n",
    "plt.semilogx(fpr_logreg_scaled, tpr_logreg_scaled, '-', \n",
    "             color='blue', label='scaled data overfit; AUC = %0.3f' % auc_logreg_scaled)\n",
    "plt.semilogx(fpr_logreg, tpr_logreg, '-', color='orange', \n",
    "             label='original data; AUC = %0.3f' % auc_logreg)\n",
    "plt.semilogx(fpr_logreg_scaled_, tpr_logreg_scaled_, '-', color='black', \n",
    "             label='scaled data no overfit; AUC = %0.3f' % auc_logreg_scaled_)\n",
    "\n",
    "\n",
    "plt.xlabel('False Positive Rate', fontsize=16)\n",
    "plt.ylabel('True Positive Rate', fontsize=16)\n",
    "plt.title('ROC curve: Logistic regression', fontsize=16)\n",
    "plt.legend(loc=\"lower right\")"
   ]
  },
  {
   "cell_type": "markdown",
   "metadata": {},
   "source": [
    "# 3. Kaggle challenge ideas\n",
    "\n",
    "* Load the data\n",
    "* Set up a cross-validation that you will use for all your evaluations. Notice there is a 'random_state' parameter to the cross-validation methods of scikit-learn, that you can use to ensure you always get the same splits.\n",
    "* To go one step further in ensuring a fair comparison of your algorithms, you can use multiple repeats of the cross-validation procedure (using different splits each time), and report the mean & standard deviation over the repeats of the performance obtained. If you do this, you can report standard deviations in plots by using error bars.\n",
    "* Evaluate the performance of a linear regression on your data. Which evaluation metric are you using? See http://scikit-learn.org/stable/modules/model_evaluation.html#regression-metrics for help defining one.\n",
    "* Submit a linear regression predictor to the leaderboard."
   ]
  },
  {
   "cell_type": "code",
   "execution_count": null,
   "metadata": {},
   "outputs": [],
   "source": []
  },
  {
   "cell_type": "code",
   "execution_count": null,
   "metadata": {},
   "outputs": [],
   "source": []
  },
  {
   "cell_type": "code",
   "execution_count": null,
   "metadata": {},
   "outputs": [],
   "source": []
  },
  {
   "cell_type": "code",
   "execution_count": null,
   "metadata": {},
   "outputs": [],
   "source": []
  },
  {
   "cell_type": "code",
   "execution_count": null,
   "metadata": {},
   "outputs": [],
   "source": []
  }
 ],
 "metadata": {
  "kernelspec": {
   "display_name": "Python 3",
   "language": "python",
   "name": "python3"
  },
  "language_info": {
   "codemirror_mode": {
    "name": "ipython",
    "version": 3
   },
   "file_extension": ".py",
   "mimetype": "text/x-python",
   "name": "python",
   "nbconvert_exporter": "python",
   "pygments_lexer": "ipython3",
<<<<<<< HEAD
   "version": "3.5.3"
=======
   "version": "3.4.5"
>>>>>>> 88b1abc6275f56d9fc1363a4bfa8974e0e0b308d
  }
 },
 "nbformat": 4,
 "nbformat_minor": 2
}
